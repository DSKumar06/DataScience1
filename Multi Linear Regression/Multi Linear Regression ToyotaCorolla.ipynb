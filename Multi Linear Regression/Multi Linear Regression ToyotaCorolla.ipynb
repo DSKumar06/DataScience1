{
 "cells": [
  {
   "cell_type": "code",
   "execution_count": 14,
   "id": "4d796e25",
   "metadata": {},
   "outputs": [],
   "source": [
    "# import Libraries\n",
    "import pandas as pd\n",
    "import numpy as np\n",
    "import matplotlib.pyplot as plt\n",
    "import seaborn as sns\n",
    "import statsmodels.formula.api as smf\n",
    "import statsmodels.api as sm\n",
    "from statsmodels.graphics.regressionplots import influence_plot"
   ]
  },
  {
   "cell_type": "code",
   "execution_count": 28,
   "id": "28f43be1",
   "metadata": {},
   "outputs": [
    {
     "data": {
      "text/html": [
       "<div>\n",
       "<style scoped>\n",
       "    .dataframe tbody tr th:only-of-type {\n",
       "        vertical-align: middle;\n",
       "    }\n",
       "\n",
       "    .dataframe tbody tr th {\n",
       "        vertical-align: top;\n",
       "    }\n",
       "\n",
       "    .dataframe thead th {\n",
       "        text-align: right;\n",
       "    }\n",
       "</style>\n",
       "<table border=\"1\" class=\"dataframe\">\n",
       "  <thead>\n",
       "    <tr style=\"text-align: right;\">\n",
       "      <th></th>\n",
       "      <th>Id</th>\n",
       "      <th>Model</th>\n",
       "      <th>Price</th>\n",
       "      <th>Age_08_04</th>\n",
       "      <th>Mfg_Month</th>\n",
       "      <th>Mfg_Year</th>\n",
       "      <th>KM</th>\n",
       "      <th>Fuel_Type</th>\n",
       "      <th>HP</th>\n",
       "      <th>Met_Color</th>\n",
       "      <th>...</th>\n",
       "      <th>Central_Lock</th>\n",
       "      <th>Powered_Windows</th>\n",
       "      <th>Power_Steering</th>\n",
       "      <th>Radio</th>\n",
       "      <th>Mistlamps</th>\n",
       "      <th>Sport_Model</th>\n",
       "      <th>Backseat_Divider</th>\n",
       "      <th>Metallic_Rim</th>\n",
       "      <th>Radio_cassette</th>\n",
       "      <th>Tow_Bar</th>\n",
       "    </tr>\n",
       "  </thead>\n",
       "  <tbody>\n",
       "    <tr>\n",
       "      <th>0</th>\n",
       "      <td>1</td>\n",
       "      <td>TOYOTA Corolla 2.0 D4D HATCHB TERRA 2/3-Doors</td>\n",
       "      <td>13500</td>\n",
       "      <td>23</td>\n",
       "      <td>10</td>\n",
       "      <td>2002</td>\n",
       "      <td>46986</td>\n",
       "      <td>Diesel</td>\n",
       "      <td>90</td>\n",
       "      <td>1</td>\n",
       "      <td>...</td>\n",
       "      <td>1</td>\n",
       "      <td>1</td>\n",
       "      <td>1</td>\n",
       "      <td>0</td>\n",
       "      <td>0</td>\n",
       "      <td>0</td>\n",
       "      <td>1</td>\n",
       "      <td>0</td>\n",
       "      <td>0</td>\n",
       "      <td>0</td>\n",
       "    </tr>\n",
       "    <tr>\n",
       "      <th>1</th>\n",
       "      <td>2</td>\n",
       "      <td>TOYOTA Corolla 2.0 D4D HATCHB TERRA 2/3-Doors</td>\n",
       "      <td>13750</td>\n",
       "      <td>23</td>\n",
       "      <td>10</td>\n",
       "      <td>2002</td>\n",
       "      <td>72937</td>\n",
       "      <td>Diesel</td>\n",
       "      <td>90</td>\n",
       "      <td>1</td>\n",
       "      <td>...</td>\n",
       "      <td>1</td>\n",
       "      <td>0</td>\n",
       "      <td>1</td>\n",
       "      <td>0</td>\n",
       "      <td>0</td>\n",
       "      <td>0</td>\n",
       "      <td>1</td>\n",
       "      <td>0</td>\n",
       "      <td>0</td>\n",
       "      <td>0</td>\n",
       "    </tr>\n",
       "    <tr>\n",
       "      <th>2</th>\n",
       "      <td>3</td>\n",
       "      <td>TOYOTA Corolla 2.0 D4D HATCHB TERRA 2/3-Doors</td>\n",
       "      <td>13950</td>\n",
       "      <td>24</td>\n",
       "      <td>9</td>\n",
       "      <td>2002</td>\n",
       "      <td>41711</td>\n",
       "      <td>Diesel</td>\n",
       "      <td>90</td>\n",
       "      <td>1</td>\n",
       "      <td>...</td>\n",
       "      <td>0</td>\n",
       "      <td>0</td>\n",
       "      <td>1</td>\n",
       "      <td>0</td>\n",
       "      <td>0</td>\n",
       "      <td>0</td>\n",
       "      <td>1</td>\n",
       "      <td>0</td>\n",
       "      <td>0</td>\n",
       "      <td>0</td>\n",
       "    </tr>\n",
       "    <tr>\n",
       "      <th>3</th>\n",
       "      <td>4</td>\n",
       "      <td>TOYOTA Corolla 2.0 D4D HATCHB TERRA 2/3-Doors</td>\n",
       "      <td>14950</td>\n",
       "      <td>26</td>\n",
       "      <td>7</td>\n",
       "      <td>2002</td>\n",
       "      <td>48000</td>\n",
       "      <td>Diesel</td>\n",
       "      <td>90</td>\n",
       "      <td>0</td>\n",
       "      <td>...</td>\n",
       "      <td>0</td>\n",
       "      <td>0</td>\n",
       "      <td>1</td>\n",
       "      <td>0</td>\n",
       "      <td>0</td>\n",
       "      <td>0</td>\n",
       "      <td>1</td>\n",
       "      <td>0</td>\n",
       "      <td>0</td>\n",
       "      <td>0</td>\n",
       "    </tr>\n",
       "    <tr>\n",
       "      <th>4</th>\n",
       "      <td>5</td>\n",
       "      <td>TOYOTA Corolla 2.0 D4D HATCHB SOL 2/3-Doors</td>\n",
       "      <td>13750</td>\n",
       "      <td>30</td>\n",
       "      <td>3</td>\n",
       "      <td>2002</td>\n",
       "      <td>38500</td>\n",
       "      <td>Diesel</td>\n",
       "      <td>90</td>\n",
       "      <td>0</td>\n",
       "      <td>...</td>\n",
       "      <td>1</td>\n",
       "      <td>1</td>\n",
       "      <td>1</td>\n",
       "      <td>0</td>\n",
       "      <td>1</td>\n",
       "      <td>0</td>\n",
       "      <td>1</td>\n",
       "      <td>0</td>\n",
       "      <td>0</td>\n",
       "      <td>0</td>\n",
       "    </tr>\n",
       "  </tbody>\n",
       "</table>\n",
       "<p>5 rows × 38 columns</p>\n",
       "</div>"
      ],
      "text/plain": [
       "   Id                                           Model  Price  Age_08_04  \\\n",
       "0   1   TOYOTA Corolla 2.0 D4D HATCHB TERRA 2/3-Doors  13500         23   \n",
       "1   2   TOYOTA Corolla 2.0 D4D HATCHB TERRA 2/3-Doors  13750         23   \n",
       "2   3   TOYOTA Corolla 2.0 D4D HATCHB TERRA 2/3-Doors  13950         24   \n",
       "3   4   TOYOTA Corolla 2.0 D4D HATCHB TERRA 2/3-Doors  14950         26   \n",
       "4   5     TOYOTA Corolla 2.0 D4D HATCHB SOL 2/3-Doors  13750         30   \n",
       "\n",
       "   Mfg_Month  Mfg_Year     KM Fuel_Type  HP  Met_Color  ... Central_Lock  \\\n",
       "0         10      2002  46986    Diesel  90          1  ...            1   \n",
       "1         10      2002  72937    Diesel  90          1  ...            1   \n",
       "2          9      2002  41711    Diesel  90          1  ...            0   \n",
       "3          7      2002  48000    Diesel  90          0  ...            0   \n",
       "4          3      2002  38500    Diesel  90          0  ...            1   \n",
       "\n",
       "   Powered_Windows  Power_Steering  Radio  Mistlamps  Sport_Model  \\\n",
       "0                1               1      0          0            0   \n",
       "1                0               1      0          0            0   \n",
       "2                0               1      0          0            0   \n",
       "3                0               1      0          0            0   \n",
       "4                1               1      0          1            0   \n",
       "\n",
       "   Backseat_Divider  Metallic_Rim  Radio_cassette  Tow_Bar  \n",
       "0                 1             0               0        0  \n",
       "1                 1             0               0        0  \n",
       "2                 1             0               0        0  \n",
       "3                 1             0               0        0  \n",
       "4                 1             0               0        0  \n",
       "\n",
       "[5 rows x 38 columns]"
      ]
     },
     "execution_count": 28,
     "metadata": {},
     "output_type": "execute_result"
    }
   ],
   "source": [
    "# import dataset\n",
    "data=pd.read_csv('ToyotaCorolla.csv',encoding='latin1')\n",
    "data.head()"
   ]
  },
  {
   "cell_type": "code",
   "execution_count": 29,
   "id": "a52152b4",
   "metadata": {},
   "outputs": [],
   "source": [
    "Selected_Columns = [\n",
    "    'Age_08_04',\n",
    "    'KM',\n",
    "    'HP',\n",
    "    'Gears',\n",
    "    'cc',\n",
    "    'Doors',\n",
    "    'Quarterly_Tax',\n",
    "    'Weight',\n",
    "    'Price',\n",
    "]"
   ]
  },
  {
   "cell_type": "code",
   "execution_count": 30,
   "id": "9b6ec6a4",
   "metadata": {},
   "outputs": [
    {
     "data": {
      "text/html": [
       "<div>\n",
       "<style scoped>\n",
       "    .dataframe tbody tr th:only-of-type {\n",
       "        vertical-align: middle;\n",
       "    }\n",
       "\n",
       "    .dataframe tbody tr th {\n",
       "        vertical-align: top;\n",
       "    }\n",
       "\n",
       "    .dataframe thead th {\n",
       "        text-align: right;\n",
       "    }\n",
       "</style>\n",
       "<table border=\"1\" class=\"dataframe\">\n",
       "  <thead>\n",
       "    <tr style=\"text-align: right;\">\n",
       "      <th></th>\n",
       "      <th>Age_08_04</th>\n",
       "      <th>KM</th>\n",
       "      <th>HP</th>\n",
       "      <th>Gears</th>\n",
       "      <th>cc</th>\n",
       "      <th>Doors</th>\n",
       "      <th>Quarterly_Tax</th>\n",
       "      <th>Weight</th>\n",
       "      <th>Price</th>\n",
       "    </tr>\n",
       "  </thead>\n",
       "  <tbody>\n",
       "    <tr>\n",
       "      <th>0</th>\n",
       "      <td>23</td>\n",
       "      <td>46986</td>\n",
       "      <td>90</td>\n",
       "      <td>5</td>\n",
       "      <td>2000</td>\n",
       "      <td>3</td>\n",
       "      <td>210</td>\n",
       "      <td>1165</td>\n",
       "      <td>13500</td>\n",
       "    </tr>\n",
       "    <tr>\n",
       "      <th>1</th>\n",
       "      <td>23</td>\n",
       "      <td>72937</td>\n",
       "      <td>90</td>\n",
       "      <td>5</td>\n",
       "      <td>2000</td>\n",
       "      <td>3</td>\n",
       "      <td>210</td>\n",
       "      <td>1165</td>\n",
       "      <td>13750</td>\n",
       "    </tr>\n",
       "    <tr>\n",
       "      <th>2</th>\n",
       "      <td>24</td>\n",
       "      <td>41711</td>\n",
       "      <td>90</td>\n",
       "      <td>5</td>\n",
       "      <td>2000</td>\n",
       "      <td>3</td>\n",
       "      <td>210</td>\n",
       "      <td>1165</td>\n",
       "      <td>13950</td>\n",
       "    </tr>\n",
       "    <tr>\n",
       "      <th>3</th>\n",
       "      <td>26</td>\n",
       "      <td>48000</td>\n",
       "      <td>90</td>\n",
       "      <td>5</td>\n",
       "      <td>2000</td>\n",
       "      <td>3</td>\n",
       "      <td>210</td>\n",
       "      <td>1165</td>\n",
       "      <td>14950</td>\n",
       "    </tr>\n",
       "    <tr>\n",
       "      <th>4</th>\n",
       "      <td>30</td>\n",
       "      <td>38500</td>\n",
       "      <td>90</td>\n",
       "      <td>5</td>\n",
       "      <td>2000</td>\n",
       "      <td>3</td>\n",
       "      <td>210</td>\n",
       "      <td>1170</td>\n",
       "      <td>13750</td>\n",
       "    </tr>\n",
       "  </tbody>\n",
       "</table>\n",
       "</div>"
      ],
      "text/plain": [
       "   Age_08_04     KM  HP  Gears    cc  Doors  Quarterly_Tax  Weight  Price\n",
       "0         23  46986  90      5  2000      3            210    1165  13500\n",
       "1         23  72937  90      5  2000      3            210    1165  13750\n",
       "2         24  41711  90      5  2000      3            210    1165  13950\n",
       "3         26  48000  90      5  2000      3            210    1165  14950\n",
       "4         30  38500  90      5  2000      3            210    1170  13750"
      ]
     },
     "execution_count": 30,
     "metadata": {},
     "output_type": "execute_result"
    }
   ],
   "source": [
    "data1 = data[Selected_Columns]\n",
    "data1.head()"
   ]
  },
  {
   "cell_type": "code",
   "execution_count": 31,
   "id": "0204d3a8",
   "metadata": {},
   "outputs": [
    {
     "name": "stdout",
     "output_type": "stream",
     "text": [
      "<class 'pandas.core.frame.DataFrame'>\n",
      "RangeIndex: 1436 entries, 0 to 1435\n",
      "Data columns (total 9 columns):\n",
      " #   Column         Non-Null Count  Dtype\n",
      "---  ------         --------------  -----\n",
      " 0   Age_08_04      1436 non-null   int64\n",
      " 1   KM             1436 non-null   int64\n",
      " 2   HP             1436 non-null   int64\n",
      " 3   Gears          1436 non-null   int64\n",
      " 4   cc             1436 non-null   int64\n",
      " 5   Doors          1436 non-null   int64\n",
      " 6   Quarterly_Tax  1436 non-null   int64\n",
      " 7   Weight         1436 non-null   int64\n",
      " 8   Price          1436 non-null   int64\n",
      "dtypes: int64(9)\n",
      "memory usage: 101.1 KB\n"
     ]
    }
   ],
   "source": [
    "data1.info()"
   ]
  },
  {
   "cell_type": "code",
   "execution_count": 32,
   "id": "95c8a033",
   "metadata": {},
   "outputs": [
    {
     "data": {
      "text/plain": [
       "Age_08_04        0\n",
       "KM               0\n",
       "HP               0\n",
       "Gears            0\n",
       "cc               0\n",
       "Doors            0\n",
       "Quarterly_Tax    0\n",
       "Weight           0\n",
       "Price            0\n",
       "dtype: int64"
      ]
     },
     "execution_count": 32,
     "metadata": {},
     "output_type": "execute_result"
    }
   ],
   "source": [
    "data1.isna().sum()"
   ]
  },
  {
   "cell_type": "code",
   "execution_count": 33,
   "id": "dece55ad",
   "metadata": {},
   "outputs": [
    {
     "name": "stdout",
     "output_type": "stream",
     "text": [
      "\u001b[1m \n",
      " Describe the given data set to see more information on how they discributed \u001b[1m\n"
     ]
    },
    {
     "data": {
      "text/html": [
       "<div>\n",
       "<style scoped>\n",
       "    .dataframe tbody tr th:only-of-type {\n",
       "        vertical-align: middle;\n",
       "    }\n",
       "\n",
       "    .dataframe tbody tr th {\n",
       "        vertical-align: top;\n",
       "    }\n",
       "\n",
       "    .dataframe thead th {\n",
       "        text-align: right;\n",
       "    }\n",
       "</style>\n",
       "<table border=\"1\" class=\"dataframe\">\n",
       "  <thead>\n",
       "    <tr style=\"text-align: right;\">\n",
       "      <th></th>\n",
       "      <th>count</th>\n",
       "      <th>mean</th>\n",
       "      <th>std</th>\n",
       "      <th>min</th>\n",
       "      <th>25%</th>\n",
       "      <th>50%</th>\n",
       "      <th>75%</th>\n",
       "      <th>max</th>\n",
       "    </tr>\n",
       "  </thead>\n",
       "  <tbody>\n",
       "    <tr>\n",
       "      <th>Age_08_04</th>\n",
       "      <td>1436.0</td>\n",
       "      <td>55.947075</td>\n",
       "      <td>18.599988</td>\n",
       "      <td>1.0</td>\n",
       "      <td>44.0</td>\n",
       "      <td>61.0</td>\n",
       "      <td>70.00</td>\n",
       "      <td>80.0</td>\n",
       "    </tr>\n",
       "    <tr>\n",
       "      <th>KM</th>\n",
       "      <td>1436.0</td>\n",
       "      <td>68533.259749</td>\n",
       "      <td>37506.448872</td>\n",
       "      <td>1.0</td>\n",
       "      <td>43000.0</td>\n",
       "      <td>63389.5</td>\n",
       "      <td>87020.75</td>\n",
       "      <td>243000.0</td>\n",
       "    </tr>\n",
       "    <tr>\n",
       "      <th>HP</th>\n",
       "      <td>1436.0</td>\n",
       "      <td>101.502089</td>\n",
       "      <td>14.981080</td>\n",
       "      <td>69.0</td>\n",
       "      <td>90.0</td>\n",
       "      <td>110.0</td>\n",
       "      <td>110.00</td>\n",
       "      <td>192.0</td>\n",
       "    </tr>\n",
       "    <tr>\n",
       "      <th>Gears</th>\n",
       "      <td>1436.0</td>\n",
       "      <td>5.026462</td>\n",
       "      <td>0.188510</td>\n",
       "      <td>3.0</td>\n",
       "      <td>5.0</td>\n",
       "      <td>5.0</td>\n",
       "      <td>5.00</td>\n",
       "      <td>6.0</td>\n",
       "    </tr>\n",
       "    <tr>\n",
       "      <th>cc</th>\n",
       "      <td>1436.0</td>\n",
       "      <td>1576.855850</td>\n",
       "      <td>424.386770</td>\n",
       "      <td>1300.0</td>\n",
       "      <td>1400.0</td>\n",
       "      <td>1600.0</td>\n",
       "      <td>1600.00</td>\n",
       "      <td>16000.0</td>\n",
       "    </tr>\n",
       "    <tr>\n",
       "      <th>Doors</th>\n",
       "      <td>1436.0</td>\n",
       "      <td>4.033426</td>\n",
       "      <td>0.952677</td>\n",
       "      <td>2.0</td>\n",
       "      <td>3.0</td>\n",
       "      <td>4.0</td>\n",
       "      <td>5.00</td>\n",
       "      <td>5.0</td>\n",
       "    </tr>\n",
       "    <tr>\n",
       "      <th>Quarterly_Tax</th>\n",
       "      <td>1436.0</td>\n",
       "      <td>87.122563</td>\n",
       "      <td>41.128611</td>\n",
       "      <td>19.0</td>\n",
       "      <td>69.0</td>\n",
       "      <td>85.0</td>\n",
       "      <td>85.00</td>\n",
       "      <td>283.0</td>\n",
       "    </tr>\n",
       "    <tr>\n",
       "      <th>Weight</th>\n",
       "      <td>1436.0</td>\n",
       "      <td>1072.459610</td>\n",
       "      <td>52.641120</td>\n",
       "      <td>1000.0</td>\n",
       "      <td>1040.0</td>\n",
       "      <td>1070.0</td>\n",
       "      <td>1085.00</td>\n",
       "      <td>1615.0</td>\n",
       "    </tr>\n",
       "    <tr>\n",
       "      <th>Price</th>\n",
       "      <td>1436.0</td>\n",
       "      <td>10730.824513</td>\n",
       "      <td>3626.964585</td>\n",
       "      <td>4350.0</td>\n",
       "      <td>8450.0</td>\n",
       "      <td>9900.0</td>\n",
       "      <td>11950.00</td>\n",
       "      <td>32500.0</td>\n",
       "    </tr>\n",
       "  </tbody>\n",
       "</table>\n",
       "</div>"
      ],
      "text/plain": [
       "                count          mean           std     min      25%      50%  \\\n",
       "Age_08_04      1436.0     55.947075     18.599988     1.0     44.0     61.0   \n",
       "KM             1436.0  68533.259749  37506.448872     1.0  43000.0  63389.5   \n",
       "HP             1436.0    101.502089     14.981080    69.0     90.0    110.0   \n",
       "Gears          1436.0      5.026462      0.188510     3.0      5.0      5.0   \n",
       "cc             1436.0   1576.855850    424.386770  1300.0   1400.0   1600.0   \n",
       "Doors          1436.0      4.033426      0.952677     2.0      3.0      4.0   \n",
       "Quarterly_Tax  1436.0     87.122563     41.128611    19.0     69.0     85.0   \n",
       "Weight         1436.0   1072.459610     52.641120  1000.0   1040.0   1070.0   \n",
       "Price          1436.0  10730.824513   3626.964585  4350.0   8450.0   9900.0   \n",
       "\n",
       "                    75%       max  \n",
       "Age_08_04         70.00      80.0  \n",
       "KM             87020.75  243000.0  \n",
       "HP               110.00     192.0  \n",
       "Gears              5.00       6.0  \n",
       "cc              1600.00   16000.0  \n",
       "Doors              5.00       5.0  \n",
       "Quarterly_Tax     85.00     283.0  \n",
       "Weight          1085.00    1615.0  \n",
       "Price          11950.00   32500.0  "
      ]
     },
     "execution_count": 33,
     "metadata": {},
     "output_type": "execute_result"
    }
   ],
   "source": [
    "#'\\033[0m' ends the bold formatting\n",
    "print('\\033[1m','\\n Describe the given data set to see more information on how they discributed','\\033[1m') \n",
    "data1.describe().T"
   ]
  },
  {
   "cell_type": "code",
   "execution_count": 34,
   "id": "89f66d98",
   "metadata": {},
   "outputs": [
    {
     "name": "stdout",
     "output_type": "stream",
     "text": [
      "There are  1436 rows and  9 columns in the dataset.\n"
     ]
    }
   ],
   "source": [
    "print('There are ',data1.shape[0],'rows and ',data1.shape[1],'columns in the dataset.')"
   ]
  },
  {
   "cell_type": "code",
   "execution_count": 36,
   "id": "021fc75d",
   "metadata": {},
   "outputs": [
    {
     "name": "stdout",
     "output_type": "stream",
     "text": [
      "The Standard Deviation of Profit is 9693.856995090318 \n",
      "And the Mean of Profit is 10367.973637180632\n"
     ]
    }
   ],
   "source": [
    "print('The Standard Deviation of Profit is', data1['Price'].describe().std(),\n",
    "      '\\n''And the Mean of Profit is',data1['Price'].describe().mean())"
   ]
  },
  {
   "cell_type": "code",
   "execution_count": 37,
   "id": "df7e814b",
   "metadata": {},
   "outputs": [
    {
     "name": "stdout",
     "output_type": "stream",
     "text": [
      "\u001b[1m \u001b[91m There are 1 \u001b[91m duplicate values in the dateset.\u001b[1m\n"
     ]
    }
   ],
   "source": [
    "print('\\033[1m','\\033[91m','There are',data1.duplicated().sum(),'\\033[91m','duplicate values in the dateset.''\\033[1m') "
   ]
  },
  {
   "cell_type": "code",
   "execution_count": 38,
   "id": "bdc9f259",
   "metadata": {},
   "outputs": [
    {
     "data": {
      "text/html": [
       "<style type=\"text/css\">\n",
       "#T_fde64_row0_col0, #T_fde64_row1_col1, #T_fde64_row2_col2, #T_fde64_row3_col3, #T_fde64_row4_col4, #T_fde64_row5_col5, #T_fde64_row6_col6, #T_fde64_row7_col7, #T_fde64_row8_col8 {\n",
       "  background-color: #b40426;\n",
       "  color: #f1f1f1;\n",
       "}\n",
       "#T_fde64_row0_col1 {\n",
       "  background-color: #f7b194;\n",
       "  color: #000000;\n",
       "}\n",
       "#T_fde64_row0_col2 {\n",
       "  background-color: #6384eb;\n",
       "  color: #f1f1f1;\n",
       "}\n",
       "#T_fde64_row0_col3, #T_fde64_row6_col3 {\n",
       "  background-color: #6485ec;\n",
       "  color: #f1f1f1;\n",
       "}\n",
       "#T_fde64_row0_col4, #T_fde64_row0_col7, #T_fde64_row0_col8, #T_fde64_row1_col2, #T_fde64_row2_col6, #T_fde64_row3_col5, #T_fde64_row5_col3, #T_fde64_row8_col0, #T_fde64_row8_col1 {\n",
       "  background-color: #3b4cc0;\n",
       "  color: #f1f1f1;\n",
       "}\n",
       "#T_fde64_row0_col5 {\n",
       "  background-color: #3d50c3;\n",
       "  color: #f1f1f1;\n",
       "}\n",
       "#T_fde64_row0_col6 {\n",
       "  background-color: #516ddb;\n",
       "  color: #f1f1f1;\n",
       "}\n",
       "#T_fde64_row1_col0 {\n",
       "  background-color: #f59f80;\n",
       "  color: #000000;\n",
       "}\n",
       "#T_fde64_row1_col3, #T_fde64_row2_col1, #T_fde64_row4_col3 {\n",
       "  background-color: #6a8bef;\n",
       "  color: #f1f1f1;\n",
       "}\n",
       "#T_fde64_row1_col4 {\n",
       "  background-color: #7597f6;\n",
       "  color: #f1f1f1;\n",
       "}\n",
       "#T_fde64_row1_col5 {\n",
       "  background-color: #5b7ae5;\n",
       "  color: #f1f1f1;\n",
       "}\n",
       "#T_fde64_row1_col6 {\n",
       "  background-color: #cdd9ec;\n",
       "  color: #000000;\n",
       "}\n",
       "#T_fde64_row1_col7, #T_fde64_row8_col5 {\n",
       "  background-color: #9ebeff;\n",
       "  color: #000000;\n",
       "}\n",
       "#T_fde64_row1_col8, #T_fde64_row5_col4 {\n",
       "  background-color: #6e90f2;\n",
       "  color: #f1f1f1;\n",
       "}\n",
       "#T_fde64_row2_col0 {\n",
       "  background-color: #bbd1f8;\n",
       "  color: #000000;\n",
       "}\n",
       "#T_fde64_row2_col3, #T_fde64_row5_col2, #T_fde64_row7_col2 {\n",
       "  background-color: #a5c3fe;\n",
       "  color: #000000;\n",
       "}\n",
       "#T_fde64_row2_col4 {\n",
       "  background-color: #6180e9;\n",
       "  color: #f1f1f1;\n",
       "}\n",
       "#T_fde64_row2_col5, #T_fde64_row7_col0 {\n",
       "  background-color: #81a4fb;\n",
       "  color: #f1f1f1;\n",
       "}\n",
       "#T_fde64_row2_col7 {\n",
       "  background-color: #bad0f8;\n",
       "  color: #000000;\n",
       "}\n",
       "#T_fde64_row2_col8 {\n",
       "  background-color: #f5c1a9;\n",
       "  color: #000000;\n",
       "}\n",
       "#T_fde64_row3_col0 {\n",
       "  background-color: #d3dbe7;\n",
       "  color: #000000;\n",
       "}\n",
       "#T_fde64_row3_col1 {\n",
       "  background-color: #b7cff9;\n",
       "  color: #000000;\n",
       "}\n",
       "#T_fde64_row3_col2 {\n",
       "  background-color: #c3d5f4;\n",
       "  color: #000000;\n",
       "}\n",
       "#T_fde64_row3_col4 {\n",
       "  background-color: #5a78e4;\n",
       "  color: #f1f1f1;\n",
       "}\n",
       "#T_fde64_row3_col6 {\n",
       "  background-color: #84a7fc;\n",
       "  color: #f1f1f1;\n",
       "}\n",
       "#T_fde64_row3_col7 {\n",
       "  background-color: #aac7fd;\n",
       "  color: #000000;\n",
       "}\n",
       "#T_fde64_row3_col8 {\n",
       "  background-color: #dddcdc;\n",
       "  color: #000000;\n",
       "}\n",
       "#T_fde64_row4_col0 {\n",
       "  background-color: #c5d6f2;\n",
       "  color: #000000;\n",
       "}\n",
       "#T_fde64_row4_col1 {\n",
       "  background-color: #c9d7f0;\n",
       "  color: #000000;\n",
       "}\n",
       "#T_fde64_row4_col2 {\n",
       "  background-color: #96b7ff;\n",
       "  color: #000000;\n",
       "}\n",
       "#T_fde64_row4_col5, #T_fde64_row8_col4 {\n",
       "  background-color: #7da0f9;\n",
       "  color: #f1f1f1;\n",
       "}\n",
       "#T_fde64_row4_col6 {\n",
       "  background-color: #d4dbe6;\n",
       "  color: #000000;\n",
       "}\n",
       "#T_fde64_row4_col7 {\n",
       "  background-color: #e9d5cb;\n",
       "  color: #000000;\n",
       "}\n",
       "#T_fde64_row4_col8 {\n",
       "  background-color: #e5d8d1;\n",
       "  color: #000000;\n",
       "}\n",
       "#T_fde64_row5_col0 {\n",
       "  background-color: #bcd2f7;\n",
       "  color: #000000;\n",
       "}\n",
       "#T_fde64_row5_col1 {\n",
       "  background-color: #adc9fd;\n",
       "  color: #000000;\n",
       "}\n",
       "#T_fde64_row5_col6 {\n",
       "  background-color: #a3c2fe;\n",
       "  color: #000000;\n",
       "}\n",
       "#T_fde64_row5_col7 {\n",
       "  background-color: #e3d9d3;\n",
       "  color: #000000;\n",
       "}\n",
       "#T_fde64_row5_col8 {\n",
       "  background-color: #ecd3c5;\n",
       "  color: #000000;\n",
       "}\n",
       "#T_fde64_row6_col0 {\n",
       "  background-color: #b3cdfb;\n",
       "  color: #000000;\n",
       "}\n",
       "#T_fde64_row6_col1 {\n",
       "  background-color: #e7d7ce;\n",
       "  color: #000000;\n",
       "}\n",
       "#T_fde64_row6_col2 {\n",
       "  background-color: #4257c9;\n",
       "  color: #f1f1f1;\n",
       "}\n",
       "#T_fde64_row6_col4 {\n",
       "  background-color: #b6cefa;\n",
       "  color: #000000;\n",
       "}\n",
       "#T_fde64_row6_col5 {\n",
       "  background-color: #86a9fc;\n",
       "  color: #f1f1f1;\n",
       "}\n",
       "#T_fde64_row6_col7 {\n",
       "  background-color: #f59c7d;\n",
       "  color: #000000;\n",
       "}\n",
       "#T_fde64_row6_col8 {\n",
       "  background-color: #efcebd;\n",
       "  color: #000000;\n",
       "}\n",
       "#T_fde64_row7_col1 {\n",
       "  background-color: #aec9fc;\n",
       "  color: #000000;\n",
       "}\n",
       "#T_fde64_row7_col3 {\n",
       "  background-color: #6b8df0;\n",
       "  color: #f1f1f1;\n",
       "}\n",
       "#T_fde64_row7_col4 {\n",
       "  background-color: #bfd3f6;\n",
       "  color: #000000;\n",
       "}\n",
       "#T_fde64_row7_col5, #T_fde64_row8_col6 {\n",
       "  background-color: #c0d4f5;\n",
       "  color: #000000;\n",
       "}\n",
       "#T_fde64_row7_col6 {\n",
       "  background-color: #f7a889;\n",
       "  color: #000000;\n",
       "}\n",
       "#T_fde64_row7_col8 {\n",
       "  background-color: #f18f71;\n",
       "  color: #f1f1f1;\n",
       "}\n",
       "#T_fde64_row8_col2 {\n",
       "  background-color: #d9dce1;\n",
       "  color: #000000;\n",
       "}\n",
       "#T_fde64_row8_col3 {\n",
       "  background-color: #799cf8;\n",
       "  color: #f1f1f1;\n",
       "}\n",
       "#T_fde64_row8_col7 {\n",
       "  background-color: #f7a688;\n",
       "  color: #000000;\n",
       "}\n",
       "</style>\n",
       "<table id=\"T_fde64\">\n",
       "  <thead>\n",
       "    <tr>\n",
       "      <th class=\"blank level0\" >&nbsp;</th>\n",
       "      <th id=\"T_fde64_level0_col0\" class=\"col_heading level0 col0\" >Age_08_04</th>\n",
       "      <th id=\"T_fde64_level0_col1\" class=\"col_heading level0 col1\" >KM</th>\n",
       "      <th id=\"T_fde64_level0_col2\" class=\"col_heading level0 col2\" >HP</th>\n",
       "      <th id=\"T_fde64_level0_col3\" class=\"col_heading level0 col3\" >Gears</th>\n",
       "      <th id=\"T_fde64_level0_col4\" class=\"col_heading level0 col4\" >cc</th>\n",
       "      <th id=\"T_fde64_level0_col5\" class=\"col_heading level0 col5\" >Doors</th>\n",
       "      <th id=\"T_fde64_level0_col6\" class=\"col_heading level0 col6\" >Quarterly_Tax</th>\n",
       "      <th id=\"T_fde64_level0_col7\" class=\"col_heading level0 col7\" >Weight</th>\n",
       "      <th id=\"T_fde64_level0_col8\" class=\"col_heading level0 col8\" >Price</th>\n",
       "    </tr>\n",
       "  </thead>\n",
       "  <tbody>\n",
       "    <tr>\n",
       "      <th id=\"T_fde64_level0_row0\" class=\"row_heading level0 row0\" >Age_08_04</th>\n",
       "      <td id=\"T_fde64_row0_col0\" class=\"data row0 col0\" >1.000000</td>\n",
       "      <td id=\"T_fde64_row0_col1\" class=\"data row0 col1\" >0.505672</td>\n",
       "      <td id=\"T_fde64_row0_col2\" class=\"data row0 col2\" >-0.156622</td>\n",
       "      <td id=\"T_fde64_row0_col3\" class=\"data row0 col3\" >-0.005364</td>\n",
       "      <td id=\"T_fde64_row0_col4\" class=\"data row0 col4\" >-0.098084</td>\n",
       "      <td id=\"T_fde64_row0_col5\" class=\"data row0 col5\" >-0.148359</td>\n",
       "      <td id=\"T_fde64_row0_col6\" class=\"data row0 col6\" >-0.198431</td>\n",
       "      <td id=\"T_fde64_row0_col7\" class=\"data row0 col7\" >-0.470253</td>\n",
       "      <td id=\"T_fde64_row0_col8\" class=\"data row0 col8\" >-0.876590</td>\n",
       "    </tr>\n",
       "    <tr>\n",
       "      <th id=\"T_fde64_level0_row1\" class=\"row_heading level0 row1\" >KM</th>\n",
       "      <td id=\"T_fde64_row1_col0\" class=\"data row1 col0\" >0.505672</td>\n",
       "      <td id=\"T_fde64_row1_col1\" class=\"data row1 col1\" >1.000000</td>\n",
       "      <td id=\"T_fde64_row1_col2\" class=\"data row1 col2\" >-0.333538</td>\n",
       "      <td id=\"T_fde64_row1_col3\" class=\"data row1 col3\" >0.015023</td>\n",
       "      <td id=\"T_fde64_row1_col4\" class=\"data row1 col4\" >0.102683</td>\n",
       "      <td id=\"T_fde64_row1_col5\" class=\"data row1 col5\" >-0.036197</td>\n",
       "      <td id=\"T_fde64_row1_col6\" class=\"data row1 col6\" >0.278165</td>\n",
       "      <td id=\"T_fde64_row1_col7\" class=\"data row1 col7\" >-0.028598</td>\n",
       "      <td id=\"T_fde64_row1_col8\" class=\"data row1 col8\" >-0.569960</td>\n",
       "    </tr>\n",
       "    <tr>\n",
       "      <th id=\"T_fde64_level0_row2\" class=\"row_heading level0 row2\" >HP</th>\n",
       "      <td id=\"T_fde64_row2_col0\" class=\"data row2 col0\" >-0.156622</td>\n",
       "      <td id=\"T_fde64_row2_col1\" class=\"data row2 col1\" >-0.333538</td>\n",
       "      <td id=\"T_fde64_row2_col2\" class=\"data row2 col2\" >1.000000</td>\n",
       "      <td id=\"T_fde64_row2_col3\" class=\"data row2 col3\" >0.209477</td>\n",
       "      <td id=\"T_fde64_row2_col4\" class=\"data row2 col4\" >0.035856</td>\n",
       "      <td id=\"T_fde64_row2_col5\" class=\"data row2 col5\" >0.092424</td>\n",
       "      <td id=\"T_fde64_row2_col6\" class=\"data row2 col6\" >-0.298432</td>\n",
       "      <td id=\"T_fde64_row2_col7\" class=\"data row2 col7\" >0.089614</td>\n",
       "      <td id=\"T_fde64_row2_col8\" class=\"data row2 col8\" >0.314990</td>\n",
       "    </tr>\n",
       "    <tr>\n",
       "      <th id=\"T_fde64_level0_row3\" class=\"row_heading level0 row3\" >Gears</th>\n",
       "      <td id=\"T_fde64_row3_col0\" class=\"data row3 col0\" >-0.005364</td>\n",
       "      <td id=\"T_fde64_row3_col1\" class=\"data row3 col1\" >0.015023</td>\n",
       "      <td id=\"T_fde64_row3_col2\" class=\"data row3 col2\" >0.209477</td>\n",
       "      <td id=\"T_fde64_row3_col3\" class=\"data row3 col3\" >1.000000</td>\n",
       "      <td id=\"T_fde64_row3_col4\" class=\"data row3 col4\" >0.014629</td>\n",
       "      <td id=\"T_fde64_row3_col5\" class=\"data row3 col5\" >-0.160141</td>\n",
       "      <td id=\"T_fde64_row3_col6\" class=\"data row3 col6\" >-0.005452</td>\n",
       "      <td id=\"T_fde64_row3_col7\" class=\"data row3 col7\" >0.020613</td>\n",
       "      <td id=\"T_fde64_row3_col8\" class=\"data row3 col8\" >0.063104</td>\n",
       "    </tr>\n",
       "    <tr>\n",
       "      <th id=\"T_fde64_level0_row4\" class=\"row_heading level0 row4\" >cc</th>\n",
       "      <td id=\"T_fde64_row4_col0\" class=\"data row4 col0\" >-0.098084</td>\n",
       "      <td id=\"T_fde64_row4_col1\" class=\"data row4 col1\" >0.102683</td>\n",
       "      <td id=\"T_fde64_row4_col2\" class=\"data row4 col2\" >0.035856</td>\n",
       "      <td id=\"T_fde64_row4_col3\" class=\"data row4 col3\" >0.014629</td>\n",
       "      <td id=\"T_fde64_row4_col4\" class=\"data row4 col4\" >1.000000</td>\n",
       "      <td id=\"T_fde64_row4_col5\" class=\"data row4 col5\" >0.079903</td>\n",
       "      <td id=\"T_fde64_row4_col6\" class=\"data row4 col6\" >0.306996</td>\n",
       "      <td id=\"T_fde64_row4_col7\" class=\"data row4 col7\" >0.335637</td>\n",
       "      <td id=\"T_fde64_row4_col8\" class=\"data row4 col8\" >0.126389</td>\n",
       "    </tr>\n",
       "    <tr>\n",
       "      <th id=\"T_fde64_level0_row5\" class=\"row_heading level0 row5\" >Doors</th>\n",
       "      <td id=\"T_fde64_row5_col0\" class=\"data row5 col0\" >-0.148359</td>\n",
       "      <td id=\"T_fde64_row5_col1\" class=\"data row5 col1\" >-0.036197</td>\n",
       "      <td id=\"T_fde64_row5_col2\" class=\"data row5 col2\" >0.092424</td>\n",
       "      <td id=\"T_fde64_row5_col3\" class=\"data row5 col3\" >-0.160141</td>\n",
       "      <td id=\"T_fde64_row5_col4\" class=\"data row5 col4\" >0.079903</td>\n",
       "      <td id=\"T_fde64_row5_col5\" class=\"data row5 col5\" >1.000000</td>\n",
       "      <td id=\"T_fde64_row5_col6\" class=\"data row5 col6\" >0.109363</td>\n",
       "      <td id=\"T_fde64_row5_col7\" class=\"data row5 col7\" >0.302618</td>\n",
       "      <td id=\"T_fde64_row5_col8\" class=\"data row5 col8\" >0.185326</td>\n",
       "    </tr>\n",
       "    <tr>\n",
       "      <th id=\"T_fde64_level0_row6\" class=\"row_heading level0 row6\" >Quarterly_Tax</th>\n",
       "      <td id=\"T_fde64_row6_col0\" class=\"data row6 col0\" >-0.198431</td>\n",
       "      <td id=\"T_fde64_row6_col1\" class=\"data row6 col1\" >0.278165</td>\n",
       "      <td id=\"T_fde64_row6_col2\" class=\"data row6 col2\" >-0.298432</td>\n",
       "      <td id=\"T_fde64_row6_col3\" class=\"data row6 col3\" >-0.005452</td>\n",
       "      <td id=\"T_fde64_row6_col4\" class=\"data row6 col4\" >0.306996</td>\n",
       "      <td id=\"T_fde64_row6_col5\" class=\"data row6 col5\" >0.109363</td>\n",
       "      <td id=\"T_fde64_row6_col6\" class=\"data row6 col6\" >1.000000</td>\n",
       "      <td id=\"T_fde64_row6_col7\" class=\"data row6 col7\" >0.626134</td>\n",
       "      <td id=\"T_fde64_row6_col8\" class=\"data row6 col8\" >0.219197</td>\n",
       "    </tr>\n",
       "    <tr>\n",
       "      <th id=\"T_fde64_level0_row7\" class=\"row_heading level0 row7\" >Weight</th>\n",
       "      <td id=\"T_fde64_row7_col0\" class=\"data row7 col0\" >-0.470253</td>\n",
       "      <td id=\"T_fde64_row7_col1\" class=\"data row7 col1\" >-0.028598</td>\n",
       "      <td id=\"T_fde64_row7_col2\" class=\"data row7 col2\" >0.089614</td>\n",
       "      <td id=\"T_fde64_row7_col3\" class=\"data row7 col3\" >0.020613</td>\n",
       "      <td id=\"T_fde64_row7_col4\" class=\"data row7 col4\" >0.335637</td>\n",
       "      <td id=\"T_fde64_row7_col5\" class=\"data row7 col5\" >0.302618</td>\n",
       "      <td id=\"T_fde64_row7_col6\" class=\"data row7 col6\" >0.626134</td>\n",
       "      <td id=\"T_fde64_row7_col7\" class=\"data row7 col7\" >1.000000</td>\n",
       "      <td id=\"T_fde64_row7_col8\" class=\"data row7 col8\" >0.581198</td>\n",
       "    </tr>\n",
       "    <tr>\n",
       "      <th id=\"T_fde64_level0_row8\" class=\"row_heading level0 row8\" >Price</th>\n",
       "      <td id=\"T_fde64_row8_col0\" class=\"data row8 col0\" >-0.876590</td>\n",
       "      <td id=\"T_fde64_row8_col1\" class=\"data row8 col1\" >-0.569960</td>\n",
       "      <td id=\"T_fde64_row8_col2\" class=\"data row8 col2\" >0.314990</td>\n",
       "      <td id=\"T_fde64_row8_col3\" class=\"data row8 col3\" >0.063104</td>\n",
       "      <td id=\"T_fde64_row8_col4\" class=\"data row8 col4\" >0.126389</td>\n",
       "      <td id=\"T_fde64_row8_col5\" class=\"data row8 col5\" >0.185326</td>\n",
       "      <td id=\"T_fde64_row8_col6\" class=\"data row8 col6\" >0.219197</td>\n",
       "      <td id=\"T_fde64_row8_col7\" class=\"data row8 col7\" >0.581198</td>\n",
       "      <td id=\"T_fde64_row8_col8\" class=\"data row8 col8\" >1.000000</td>\n",
       "    </tr>\n",
       "  </tbody>\n",
       "</table>\n"
      ],
      "text/plain": [
       "<pandas.io.formats.style.Styler at 0x1c7627c8670>"
      ]
     },
     "execution_count": 38,
     "metadata": {},
     "output_type": "execute_result"
    }
   ],
   "source": [
    "data1.corr().style.background_gradient(cmap='coolwarm')"
   ]
  },
  {
   "cell_type": "markdown",
   "id": "92ff15a2",
   "metadata": {},
   "source": [
    "# EDA"
   ]
  },
  {
   "cell_type": "code",
   "execution_count": 39,
   "id": "7c770db0",
   "metadata": {},
   "outputs": [
    {
     "data": {
      "image/png": "[encoded data removed]",
      "text/plain": [
       "<Figure size 640x480 with 2 Axes>"
      ]
     },
     "metadata": {},
     "output_type": "display_data"
    }
   ],
   "source": [
    "sns.heatmap(data1.corr(),annot=True,cmap='Blues')\n",
    "plt.show()"
   ]
  },
  {
   "cell_type": "code",
   "execution_count": 41,
   "id": "297e84c8",
   "metadata": {},
   "outputs": [
    {
     "data": {
      "image/png": "[encoded data removed]",
      "text/plain": [
       "<Figure size 800x800 with 2 Axes>"
      ]
     },
     "metadata": {},
     "output_type": "display_data"
    }
   ],
   "source": [
    "corr = data1.corr()\n",
    "#Plot figsize\n",
    "fig, ax = plt.subplots(figsize=(8, 8))\n",
    "#Generate Heat Map, allow annotations and place floats in map\n",
    "sns.heatmap(corr, cmap='magma', annot=True, fmt=\".2f\")\n",
    "#Apply xticks\n",
    "plt.xticks(range(len(corr.columns)), corr.columns);\n",
    "#Apply yticks\n",
    "plt.yticks(range(len(corr.columns)), corr.columns)\n",
    "#show plot\n",
    "plt.show()"
   ]
  },
  {
   "cell_type": "code",
   "execution_count": 46,
   "id": "535ea213",
   "metadata": {},
   "outputs": [
    {
     "data": {
      "image/png": "[encoded data removed]",
      "text/plain": [
       "<Figure size 600x500 with 1 Axes>"
      ]
     },
     "metadata": {},
     "output_type": "display_data"
    }
   ],
   "source": [
    "plt.rcParams['figure.figsize'] = [6,5]\n",
    "sns.boxplot(data=data1['Price'], orient=\"h\", palette=\"Set2\" , width=0.7) # orient = \"v\" : vertical boxplot , \n",
    "                                                                            # orient = \"h\" : hotrizontal boxplot\n",
    "plt.title(\"Outliers Variable Distribution\")\n",
    "plt.ylabel(\"Price Range\")\n",
    "plt.xlabel(\"Continuous Variable\")\n",
    "\n",
    "plt.show()"
   ]
  },
  {
   "cell_type": "markdown",
   "id": "2b934963",
   "metadata": {},
   "source": [
    "#### Could see more data concentrated above the mean and there are outliers identified."
   ]
  },
  {
   "cell_type": "code",
   "execution_count": 48,
   "id": "6f91d67c",
   "metadata": {},
   "outputs": [
    {
     "name": "stderr",
     "output_type": "stream",
     "text": [
      "C:\\ProgramData\\Anaconda3\\lib\\site-packages\\seaborn\\distributions.py:2619: FutureWarning: `distplot` is a deprecated function and will be removed in a future version. Please adapt your code to use either `displot` (a figure-level function with similar flexibility) or `histplot` (an axes-level function for histograms).\n",
      "  warnings.warn(msg, FutureWarning)\n"
     ]
    },
    {
     "data": {
      "text/plain": [
       "<AxesSubplot:xlabel='Price', ylabel='Density'>"
      ]
     },
     "execution_count": 48,
     "metadata": {},
     "output_type": "execute_result"
    },
    {
     "data": {
      "image/png": "[encoded data removed]",
      "text/plain": [
       "<Figure size 600x500 with 1 Axes>"
      ]
     },
     "metadata": {},
     "output_type": "display_data"
    }
   ],
   "source": [
    "sns.distplot(data1['Price'])"
   ]
  },
  {
   "cell_type": "code",
   "execution_count": 49,
   "id": "1e5a1208",
   "metadata": {},
   "outputs": [
    {
     "data": {
      "image/png": "[encoded data removed]",
      "text/plain": [
       "<Figure size 1500x500 with 1 Axes>"
      ]
     },
     "metadata": {},
     "output_type": "display_data"
    }
   ],
   "source": [
    "plt.figure(figsize=(15,5))\n",
    "plt.violinplot(data1['Price'],vert=False)\n",
    "plt.title(\"Price\")\n",
    "plt.show()"
   ]
  },
  {
   "cell_type": "markdown",
   "id": "9645c2e8",
   "metadata": {},
   "source": [
    "## Model Development"
   ]
  },
  {
   "cell_type": "code",
   "execution_count": 53,
   "id": "5b3bb53f",
   "metadata": {},
   "outputs": [
    {
     "data": {
      "text/plain": [
       "0    13500\n",
       "1    13750\n",
       "2    13950\n",
       "3    14950\n",
       "4    13750\n",
       "Name: Price, dtype: int64"
      ]
     },
     "execution_count": 53,
     "metadata": {},
     "output_type": "execute_result"
    }
   ],
   "source": [
    "# spliting Dataset in Dependent & Independent Variables\n",
    "X = data1.iloc[:, :-1]    # independent varible\n",
    "y = data1.iloc[:, -1]     # dependent variable\n",
    "\n",
    "y.head()"
   ]
  },
  {
   "cell_type": "code",
   "execution_count": 54,
   "id": "5ac6b6a5",
   "metadata": {},
   "outputs": [],
   "source": [
    "# Splitting the dataset into the Training set and Test set\n",
    "from sklearn.model_selection import train_test_split\n",
    "X_train, X_test, y_train, y_test = train_test_split(X, y, test_size = 0.25, random_state = 42)"
   ]
  },
  {
   "cell_type": "code",
   "execution_count": 55,
   "id": "66a5d535",
   "metadata": {},
   "outputs": [
    {
     "name": "stdout",
     "output_type": "stream",
     "text": [
      "Shape of X_train:  (1077, 8)\n",
      "Shape of X_test:  (359, 8)\n",
      "Shape of y_train:  (1077,)\n",
      "Shape of y_test (359,)\n"
     ]
    }
   ],
   "source": [
    "print(\"Shape of X_train: \",X_train.shape)\n",
    "print(\"Shape of X_test: \", X_test.shape)\n",
    "print(\"Shape of y_train: \",y_train.shape)\n",
    "print(\"Shape of y_test\",y_test.shape)"
   ]
  },
  {
   "cell_type": "code",
   "execution_count": 56,
   "id": "b6eb3eea",
   "metadata": {},
   "outputs": [
    {
     "data": {
      "text/plain": [
       "LinearRegression()"
      ]
     },
     "execution_count": 56,
     "metadata": {},
     "output_type": "execute_result"
    }
   ],
   "source": [
    "from sklearn.linear_model import LinearRegression\n",
    "regressor_linear = LinearRegression()\n",
    "regressor_linear.fit(X_train, y_train)"
   ]
  },
  {
   "cell_type": "code",
   "execution_count": 58,
   "id": "85a07e9c",
   "metadata": {},
   "outputs": [
    {
     "name": "stdout",
     "output_type": "stream",
     "text": [
      "CV:  0.7719638138218422\n",
      "R2_score (train):  0.8640307618150082\n",
      "R2_score (test):  0.8614722799605136\n",
      "RMSE:  1402.0810748973888\n"
     ]
    }
   ],
   "source": [
    "from sklearn.metrics import mean_squared_error\n",
    "from sklearn.model_selection import cross_val_score\n",
    "from collections import Counter\n",
    "from IPython.core.display import display, HTML\n",
    "sns.set_style('darkgrid')\n",
    "from sklearn.metrics import r2_score\n",
    "\n",
    "# Predicting Cross Validation Score the Test set results\n",
    "cv_linear = cross_val_score(estimator = regressor_linear, X = X_train, y = y_train, cv = 10)\n",
    "\n",
    "# Predicting R2 Score the Train set results\n",
    "y_pred_linear_train = regressor_linear.predict(X_train)\n",
    "r2_score_linear_train = r2_score(y_train, y_pred_linear_train)\n",
    "\n",
    "# Predicting R2 Score the Test set results\n",
    "y_pred_linear_test = regressor_linear.predict(X_test)\n",
    "r2_score_linear_test = r2_score(y_test, y_pred_linear_test)\n",
    "\n",
    "# Predicting RMSE the Test set results\n",
    "rmse_linear = (np.sqrt(mean_squared_error(y_test, y_pred_linear_test)))\n",
    "print(\"CV: \", cv_linear.mean())\n",
    "print('R2_score (train): ', r2_score_linear_train)\n",
    "print('R2_score (test): ', r2_score_linear_test)\n",
    "print(\"RMSE: \", rmse_linear)"
   ]
  },
  {
   "cell_type": "markdown",
   "id": "3048b1a7",
   "metadata": {},
   "source": [
    "#### Polynomial Regression - 2nd degree "
   ]
  },
  {
   "cell_type": "code",
   "execution_count": 59,
   "id": "c91b73cf",
   "metadata": {},
   "outputs": [
    {
     "data": {
      "text/plain": [
       "LinearRegression()"
      ]
     },
     "execution_count": 59,
     "metadata": {},
     "output_type": "execute_result"
    }
   ],
   "source": [
    "from sklearn.preprocessing import PolynomialFeatures\n",
    "poly_reg = PolynomialFeatures(degree = 2)\n",
    "X_poly = poly_reg.fit_transform(X_train)\n",
    "poly_reg.fit(X_poly, y_train)\n",
    "regressor_poly2 = LinearRegression()\n",
    "regressor_poly2.fit(X_poly, y_train)"
   ]
  },
  {
   "cell_type": "code",
   "execution_count": 60,
   "id": "6d59113d",
   "metadata": {},
   "outputs": [
    {
     "name": "stdout",
     "output_type": "stream",
     "text": [
      "CV:  0.7719638138218422\n",
      "R2_score (train):  0.9115151013034083\n",
      "R2_score (test):  0.8631701158624697\n",
      "RMSE:  1393.4624292373408\n"
     ]
    }
   ],
   "source": [
    "from sklearn.metrics import r2_score\n",
    "\n",
    "# Predicting Cross Validation Score the Test set results\n",
    "cv_poly2 = cross_val_score(estimator = regressor_poly2, X = X_train, y = y_train, cv = 10)\n",
    "\n",
    "# Predicting R2 Score the Train set results\n",
    "y_pred_poly2_train = regressor_poly2.predict(poly_reg.fit_transform(X_train))\n",
    "r2_score_poly2_train = r2_score(y_train, y_pred_poly2_train)\n",
    "\n",
    "# Predicting R2 Score the Test set results\n",
    "y_pred_poly2_test = regressor_poly2.predict(poly_reg.fit_transform(X_test))\n",
    "r2_score_poly2_test = r2_score(y_test, y_pred_poly2_test)\n",
    "\n",
    "# Predicting RMSE the Test set results\n",
    "rmse_poly2 = (np.sqrt(mean_squared_error(y_test, y_pred_poly2_test)))\n",
    "print('CV: ', cv_poly2.mean())\n",
    "print('R2_score (train): ', r2_score_poly2_train)\n",
    "print('R2_score (test): ', r2_score_poly2_test)\n",
    "print(\"RMSE: \", rmse_poly2)"
   ]
  },
  {
   "cell_type": "markdown",
   "id": "69c469a0",
   "metadata": {},
   "source": [
    "## Ridge Regression "
   ]
  },
  {
   "cell_type": "code",
   "execution_count": 61,
   "id": "73280d5b",
   "metadata": {},
   "outputs": [
    {
     "data": {
      "text/plain": [
       "Pipeline(steps=[('scalar', StandardScaler()),\n",
       "                ('poly', PolynomialFeatures(degree=3)),\n",
       "                ('model', Ridge(alpha=1777))])"
      ]
     },
     "execution_count": 61,
     "metadata": {},
     "output_type": "execute_result"
    }
   ],
   "source": [
    "from sklearn.linear_model import Ridge\n",
    "from sklearn.preprocessing import StandardScaler\n",
    "from sklearn.pipeline import Pipeline\n",
    "from sklearn.preprocessing import PolynomialFeatures\n",
    "\n",
    "steps = [\n",
    "    ('scalar', StandardScaler()),\n",
    "    ('poly', PolynomialFeatures(degree=3)),\n",
    "    ('model', Ridge(alpha=1777, fit_intercept=True))\n",
    "]\n",
    "\n",
    "ridge_pipe = Pipeline(steps)\n",
    "ridge_pipe.fit(X_train, y_train)"
   ]
  },
  {
   "cell_type": "code",
   "execution_count": 62,
   "id": "ed924c96",
   "metadata": {},
   "outputs": [
    {
     "name": "stdout",
     "output_type": "stream",
     "text": [
      "CV:  -105.51091002702951\n",
      "R2_score (train):  0.8459233192855724\n",
      "R2_score (test):  0.8477686084350097\n",
      "RMSE:  1469.7954301447778\n"
     ]
    }
   ],
   "source": [
    "from sklearn.metrics import r2_score\n",
    "\n",
    "# Predicting Cross Validation Score the Test set results\n",
    "cv_ridge = cross_val_score(estimator = ridge_pipe, X = X_train, y = y_train.ravel(), cv = 10)\n",
    "\n",
    "# Predicting R2 Score the Test set results\n",
    "y_pred_ridge_train = ridge_pipe.predict(X_train)\n",
    "r2_score_ridge_train = r2_score(y_train, y_pred_ridge_train)\n",
    "\n",
    "# Predicting R2 Score the Test set results\n",
    "y_pred_ridge_test = ridge_pipe.predict(X_test)\n",
    "r2_score_ridge_test = r2_score(y_test, y_pred_ridge_test)\n",
    "\n",
    "# Predicting RMSE the Test set results\n",
    "rmse_ridge = (np.sqrt(mean_squared_error(y_test, y_pred_ridge_test)))\n",
    "print('CV: ', cv_ridge.mean())\n",
    "print('R2_score (train): ', r2_score_ridge_train)\n",
    "print('R2_score (test): ', r2_score_ridge_test)\n",
    "print(\"RMSE: \", rmse_ridge)"
   ]
  },
  {
   "cell_type": "markdown",
   "id": "8cd67c97",
   "metadata": {},
   "source": [
    "## Lasso Regression"
   ]
  },
  {
   "cell_type": "code",
   "execution_count": 63,
   "id": "eb25844f",
   "metadata": {},
   "outputs": [
    {
     "name": "stderr",
     "output_type": "stream",
     "text": [
      "C:\\ProgramData\\Anaconda3\\lib\\site-packages\\sklearn\\linear_model\\_coordinate_descent.py:647: ConvergenceWarning: Objective did not converge. You might want to increase the number of iterations, check the scale of the features or consider increasing regularisation. Duality gap: 4.412e+08, tolerance: 2.742e+08\n",
      "  model = cd_fast.enet_coordinate_descent(\n"
     ]
    },
    {
     "data": {
      "text/plain": [
       "Pipeline(steps=[('scalar', StandardScaler()),\n",
       "                ('poly', PolynomialFeatures(degree=3)),\n",
       "                ('model', Lasso(alpha=2.36, max_iter=2000, tol=0.0199))])"
      ]
     },
     "execution_count": 63,
     "metadata": {},
     "output_type": "execute_result"
    }
   ],
   "source": [
    "from sklearn.linear_model import Lasso\n",
    "from sklearn.preprocessing import StandardScaler\n",
    "from sklearn.pipeline import Pipeline\n",
    "from sklearn.preprocessing import PolynomialFeatures\n",
    "\n",
    "steps = [\n",
    "    ('scalar', StandardScaler()),\n",
    "    ('poly', PolynomialFeatures(degree=3)),\n",
    "    ('model', Lasso(alpha=2.36, fit_intercept=True, tol = 0.0199, max_iter=2000))\n",
    "]\n",
    "\n",
    "lasso_pipe = Pipeline(steps)\n",
    "lasso_pipe.fit(X_train, y_train)"
   ]
  },
  {
   "cell_type": "code",
   "execution_count": 64,
   "id": "2d9a80d8",
   "metadata": {},
   "outputs": [
    {
     "name": "stderr",
     "output_type": "stream",
     "text": [
      "C:\\ProgramData\\Anaconda3\\lib\\site-packages\\sklearn\\linear_model\\_coordinate_descent.py:647: ConvergenceWarning: Objective did not converge. You might want to increase the number of iterations, check the scale of the features or consider increasing regularisation. Duality gap: 4.508e+08, tolerance: 2.549e+08\n",
      "  model = cd_fast.enet_coordinate_descent(\n",
      "C:\\ProgramData\\Anaconda3\\lib\\site-packages\\sklearn\\linear_model\\_coordinate_descent.py:647: ConvergenceWarning: Objective did not converge. You might want to increase the number of iterations, check the scale of the features or consider increasing regularisation. Duality gap: 4.539e+08, tolerance: 2.464e+08\n",
      "  model = cd_fast.enet_coordinate_descent(\n",
      "C:\\ProgramData\\Anaconda3\\lib\\site-packages\\sklearn\\linear_model\\_coordinate_descent.py:647: ConvergenceWarning: Objective did not converge. You might want to increase the number of iterations, check the scale of the features or consider increasing regularisation. Duality gap: 4.818e+08, tolerance: 2.507e+08\n",
      "  model = cd_fast.enet_coordinate_descent(\n",
      "C:\\ProgramData\\Anaconda3\\lib\\site-packages\\sklearn\\linear_model\\_coordinate_descent.py:647: ConvergenceWarning: Objective did not converge. You might want to increase the number of iterations, check the scale of the features or consider increasing regularisation. Duality gap: 4.816e+08, tolerance: 2.518e+08\n",
      "  model = cd_fast.enet_coordinate_descent(\n"
     ]
    },
    {
     "name": "stdout",
     "output_type": "stream",
     "text": [
      "CV:  -182802.85156372463\n",
      "R2_score (train):  0.9251872930199168\n",
      "R2_score (test):  0.7581328857181608\n",
      "RMSE:  1852.649210131711\n"
     ]
    },
    {
     "name": "stderr",
     "output_type": "stream",
     "text": [
      "C:\\ProgramData\\Anaconda3\\lib\\site-packages\\sklearn\\linear_model\\_coordinate_descent.py:647: ConvergenceWarning: Objective did not converge. You might want to increase the number of iterations, check the scale of the features or consider increasing regularisation. Duality gap: 4.446e+08, tolerance: 2.463e+08\n",
      "  model = cd_fast.enet_coordinate_descent(\n"
     ]
    }
   ],
   "source": [
    "from sklearn.metrics import r2_score\n",
    "\n",
    "# Predicting Cross Validation Score\n",
    "cv_lasso = cross_val_score(estimator = lasso_pipe, X = X_train, y = y_train, cv = 10)\n",
    "\n",
    "# Predicting R2 Score the Test set results\n",
    "y_pred_lasso_train = lasso_pipe.predict(X_train)\n",
    "r2_score_lasso_train = r2_score(y_train, y_pred_lasso_train)\n",
    "\n",
    "# Predicting R2 Score the Test set results\n",
    "y_pred_lasso_test = lasso_pipe.predict(X_test)\n",
    "r2_score_lasso_test = r2_score(y_test, y_pred_lasso_test)\n",
    "\n",
    "# Predicting RMSE the Test set results\n",
    "rmse_lasso = (np.sqrt(mean_squared_error(y_test, y_pred_lasso_test)))\n",
    "print('CV: ', cv_lasso.mean())\n",
    "print('R2_score (train): ', r2_score_lasso_train)\n",
    "print('R2_score (test): ', r2_score_lasso_test)\n",
    "print(\"RMSE: \", rmse_lasso)"
   ]
  },
  {
   "cell_type": "markdown",
   "id": "1391d24c",
   "metadata": {},
   "source": [
    "### Decision Tree Regression"
   ]
  },
  {
   "cell_type": "code",
   "execution_count": 67,
   "id": "7cda0c17",
   "metadata": {},
   "outputs": [
    {
     "data": {
      "text/plain": [
       "DecisionTreeRegressor(random_state=0)"
      ]
     },
     "execution_count": 67,
     "metadata": {},
     "output_type": "execute_result"
    }
   ],
   "source": [
    "# Fitting the Decision Tree Regression Model to the dataset\n",
    "from sklearn.tree import DecisionTreeRegressor\n",
    "regressor_dt = DecisionTreeRegressor(random_state = 0)\n",
    "regressor_dt.fit(X_train, y_train)"
   ]
  },
  {
   "cell_type": "code",
   "execution_count": 68,
   "id": "0ce38228",
   "metadata": {},
   "outputs": [
    {
     "name": "stdout",
     "output_type": "stream",
     "text": [
      "CV:  0.8178063531983544\n",
      "R2_score (train):  1.0\n",
      "R2_score (test):  0.8487794082528879\n",
      "RMSE:  1464.9076624859424\n"
     ]
    }
   ],
   "source": [
    "from sklearn.metrics import r2_score\n",
    "\n",
    "# Predicting Cross Validation Score\n",
    "cv_dt = cross_val_score(estimator = regressor_dt, X = X_train, y = y_train, cv = 10)\n",
    "\n",
    "# Predicting R2 Score the Train set results\n",
    "y_pred_dt_train = regressor_dt.predict(X_train)\n",
    "r2_score_dt_train = r2_score(y_train, y_pred_dt_train)\n",
    "\n",
    "# Predicting R2 Score the Test set results\n",
    "y_pred_dt_test = regressor_dt.predict(X_test)\n",
    "r2_score_dt_test = r2_score(y_test, y_pred_dt_test)\n",
    "\n",
    "# Predicting RMSE the Test set results\n",
    "rmse_dt = (np.sqrt(mean_squared_error(y_test, y_pred_dt_test)))\n",
    "print('CV: ', cv_dt.mean())\n",
    "print('R2_score (train): ', r2_score_dt_train)\n",
    "print('R2_score (test): ', r2_score_dt_test)\n",
    "print(\"RMSE: \", rmse_dt)"
   ]
  },
  {
   "cell_type": "markdown",
   "id": "5d107367",
   "metadata": {},
   "source": [
    "### Random Forest Regression "
   ]
  },
  {
   "cell_type": "code",
   "execution_count": 69,
   "id": "73c91b85",
   "metadata": {},
   "outputs": [
    {
     "data": {
      "text/plain": [
       "RandomForestRegressor(n_estimators=1200, random_state=0)"
      ]
     },
     "execution_count": 69,
     "metadata": {},
     "output_type": "execute_result"
    }
   ],
   "source": [
    "# Fitting the Random Forest Regression to the dataset\n",
    "from sklearn.ensemble import RandomForestRegressor\n",
    "regressor_rf = RandomForestRegressor(n_estimators = 1200, random_state = 0)\n",
    "regressor_rf.fit(X_train, y_train.ravel())"
   ]
  },
  {
   "cell_type": "code",
   "execution_count": 70,
   "id": "3dac259a",
   "metadata": {},
   "outputs": [
    {
     "name": "stdout",
     "output_type": "stream",
     "text": [
      "CV:  0.8945485856642064\n",
      "R2_score (train):  0.9862046713960829\n",
      "R2_score (test):  0.9191514580281257\n",
      "RMSE:  1071.1267865054385\n"
     ]
    }
   ],
   "source": [
    "from sklearn.metrics import r2_score\n",
    "\n",
    "# Predicting Cross Validation Score\n",
    "cv_rf = cross_val_score(estimator = regressor_rf, X = X_scaled, y = y_train.ravel(), cv = 10)\n",
    "\n",
    "# Predicting R2 Score the Train set results\n",
    "y_pred_rf_train = regressor_rf.predict(X_train)\n",
    "r2_score_rf_train = r2_score(y_train, y_pred_rf_train)\n",
    "\n",
    "# Predicting R2 Score the Test set results\n",
    "y_pred_rf_test = regressor_rf.predict(X_test)\n",
    "r2_score_rf_test = r2_score(y_test, y_pred_rf_test)\n",
    "\n",
    "# Predicting RMSE the Test set results\n",
    "rmse_rf = (np.sqrt(mean_squared_error(y_test, y_pred_rf_test)))\n",
    "print('CV: ', cv_rf.mean())\n",
    "print('R2_score (train): ', r2_score_rf_train)\n",
    "print('R2_score (test): ', r2_score_rf_test)\n",
    "print(\"RMSE: \", rmse_rf)"
   ]
  },
  {
   "cell_type": "markdown",
   "id": "00e5c325",
   "metadata": {},
   "source": [
    "### Measuring the Error"
   ]
  },
  {
   "cell_type": "code",
   "execution_count": 74,
   "id": "b7d18d24",
   "metadata": {},
   "outputs": [],
   "source": [
    "models = [('Linear Regression', rmse_linear, r2_score_linear_train, r2_score_linear_test, cv_linear.mean()),\n",
    "          ('Polynomial Regression (2nd)', rmse_poly2, r2_score_poly2_train, r2_score_poly2_test, cv_poly2.mean()),\n",
    "          ('Ridge Regression', rmse_ridge, r2_score_ridge_train, r2_score_ridge_test, cv_ridge.mean()),\n",
    "          ('Lasso Regression', rmse_lasso, r2_score_lasso_train, r2_score_lasso_test, cv_lasso.mean()),\n",
    "          ('Decision Tree Regression', rmse_dt, r2_score_dt_train, r2_score_dt_test, cv_dt.mean()),\n",
    "          ('Random Forest Regression', rmse_rf, r2_score_rf_train, r2_score_rf_test, cv_rf.mean())   \n",
    "         ]"
   ]
  },
  {
   "cell_type": "code",
   "execution_count": 75,
   "id": "d0be82e5",
   "metadata": {},
   "outputs": [],
   "source": [
    "predict = pd.DataFrame(data = models, columns=['Model', 'RMSE', 'R2_Score(training)', 'R2_Score(test)', 'Cross-Validation'])"
   ]
  },
  {
   "cell_type": "code",
   "execution_count": 77,
   "id": "8ee3637d",
   "metadata": {},
   "outputs": [
    {
     "data": {
      "text/html": [
       "<div>\n",
       "<style scoped>\n",
       "    .dataframe tbody tr th:only-of-type {\n",
       "        vertical-align: middle;\n",
       "    }\n",
       "\n",
       "    .dataframe tbody tr th {\n",
       "        vertical-align: top;\n",
       "    }\n",
       "\n",
       "    .dataframe thead th {\n",
       "        text-align: right;\n",
       "    }\n",
       "</style>\n",
       "<table border=\"1\" class=\"dataframe\">\n",
       "  <thead>\n",
       "    <tr style=\"text-align: right;\">\n",
       "      <th></th>\n",
       "      <th>Model</th>\n",
       "      <th>RMSE</th>\n",
       "      <th>R2_Score(training)</th>\n",
       "      <th>R2_Score(test)</th>\n",
       "      <th>Cross-Validation</th>\n",
       "    </tr>\n",
       "  </thead>\n",
       "  <tbody>\n",
       "    <tr>\n",
       "      <th>0</th>\n",
       "      <td>Linear Regression</td>\n",
       "      <td>1402.081075</td>\n",
       "      <td>0.864031</td>\n",
       "      <td>0.861472</td>\n",
       "      <td>0.771964</td>\n",
       "    </tr>\n",
       "    <tr>\n",
       "      <th>1</th>\n",
       "      <td>Polynomial Regression (2nd)</td>\n",
       "      <td>1393.462429</td>\n",
       "      <td>0.911515</td>\n",
       "      <td>0.863170</td>\n",
       "      <td>0.771964</td>\n",
       "    </tr>\n",
       "    <tr>\n",
       "      <th>2</th>\n",
       "      <td>Ridge Regression</td>\n",
       "      <td>1469.795430</td>\n",
       "      <td>0.845923</td>\n",
       "      <td>0.847769</td>\n",
       "      <td>-105.510910</td>\n",
       "    </tr>\n",
       "    <tr>\n",
       "      <th>3</th>\n",
       "      <td>Lasso Regression</td>\n",
       "      <td>1852.649210</td>\n",
       "      <td>0.925187</td>\n",
       "      <td>0.758133</td>\n",
       "      <td>-182802.851564</td>\n",
       "    </tr>\n",
       "    <tr>\n",
       "      <th>4</th>\n",
       "      <td>Decision Tree Regression</td>\n",
       "      <td>1464.907662</td>\n",
       "      <td>1.000000</td>\n",
       "      <td>0.848779</td>\n",
       "      <td>0.817806</td>\n",
       "    </tr>\n",
       "    <tr>\n",
       "      <th>5</th>\n",
       "      <td>Random Forest Regression</td>\n",
       "      <td>1071.126787</td>\n",
       "      <td>0.986205</td>\n",
       "      <td>0.919151</td>\n",
       "      <td>0.894549</td>\n",
       "    </tr>\n",
       "  </tbody>\n",
       "</table>\n",
       "</div>"
      ],
      "text/plain": [
       "                         Model         RMSE  R2_Score(training)  \\\n",
       "0            Linear Regression  1402.081075            0.864031   \n",
       "1  Polynomial Regression (2nd)  1393.462429            0.911515   \n",
       "2             Ridge Regression  1469.795430            0.845923   \n",
       "3             Lasso Regression  1852.649210            0.925187   \n",
       "4     Decision Tree Regression  1464.907662            1.000000   \n",
       "5     Random Forest Regression  1071.126787            0.986205   \n",
       "\n",
       "   R2_Score(test)  Cross-Validation  \n",
       "0        0.861472          0.771964  \n",
       "1        0.863170          0.771964  \n",
       "2        0.847769       -105.510910  \n",
       "3        0.758133    -182802.851564  \n",
       "4        0.848779          0.817806  \n",
       "5        0.919151          0.894549  "
      ]
     },
     "execution_count": 77,
     "metadata": {},
     "output_type": "execute_result"
    }
   ],
   "source": [
    "predict.head(10)"
   ]
  },
  {
   "cell_type": "code",
   "execution_count": 78,
   "id": "4526e314",
   "metadata": {},
   "outputs": [
    {
     "data": {
      "image/png": "[encoded data removed]",
      "text/plain": [
       "<Figure size 1800x600 with 1 Axes>"
      ]
     },
     "metadata": {},
     "output_type": "display_data"
    }
   ],
   "source": [
    "predict.sort_values(by=['RMSE'], ascending=False, inplace=True)\n",
    "\n",
    "f, axe = plt.subplots(1,1, figsize=(18,6))\n",
    "sns.barplot(x='Model', y='RMSE', data=predict, ax = axe)\n",
    "axe.set_xlabel('Model', size=16)\n",
    "axe.set_ylabel('RMSE', size=16)\n",
    "\n",
    "plt.show()"
   ]
  },
  {
   "cell_type": "code",
   "execution_count": null,
   "id": "4049cb5b",
   "metadata": {},
   "outputs": [],
   "source": []
  },
  {
   "cell_type": "code",
   "execution_count": null,
   "id": "edca4649",
   "metadata": {},
   "outputs": [],
   "source": []
  },
  {
   "cell_type": "code",
   "execution_count": null,
   "id": "c92920b9",
   "metadata": {},
   "outputs": [],
   "source": []
  }
 ],
 "metadata": {
  "kernelspec": {
   "display_name": "Python 3 (ipykernel)",
   "language": "python",
   "name": "python3"
  },
  "language_info": {
   "codemirror_mode": {
    "name": "ipython",
    "version": 3
   },
   "file_extension": ".py",
   "mimetype": "text/x-python",
   "name": "python",
   "nbconvert_exporter": "python",
   "pygments_lexer": "ipython3",
   "version": "3.9.13"
  }
 },
 "nbformat": 4,
 "nbformat_minor": 5
}
