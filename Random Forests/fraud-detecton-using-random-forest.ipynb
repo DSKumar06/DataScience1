{
 "cells": [
  {
   "cell_type": "code",
   "execution_count": 1,
   "id": "807645d5",
   "metadata": {
    "_cell_guid": "b1076dfc-b9ad-4769-8c92-a6c4dae69d19",
    "_uuid": "8f2839f25d086af736a60e9eeb907d3b93b6e0e5",
    "execution": {
     "iopub.execute_input": "2021-10-27T17:08:14.339653Z",
     "iopub.status.busy": "2021-10-27T17:08:14.338904Z",
     "iopub.status.idle": "2021-10-27T17:08:14.352349Z",
     "shell.execute_reply": "2021-10-27T17:08:14.351235Z",
     "shell.execute_reply.started": "2021-10-27T16:39:12.875369Z"
    },
    "papermill": {
     "duration": 0.056538,
     "end_time": "2021-10-27T17:08:14.352743",
     "exception": false,
     "start_time": "2021-10-27T17:08:14.296205",
     "status": "completed"
    },
    "tags": []
   },
   "outputs": [
    {
     "name": "stdout",
     "output_type": "stream",
     "text": [
      "/kaggle/input/fraud-check-data/Fraud_check.csv\n"
     ]
    }
   ],
   "source": [
    "# This Python 3 environment comes with many helpful analytics libraries installed\n",
    "# It is defined by the kaggle/python Docker image: https://github.com/kaggle/docker-python\n",
    "# For example, here's several helpful packages to load\n",
    "\n",
    "import numpy as np # linear algebra\n",
    "import pandas as pd # data processing, CSV file I/O (e.g. pd.read_csv)\n",
    "\n",
    "# Input data files are available in the read-only \"../input/\" directory\n",
    "# For example, running this (by clicking run or pressing Shift+Enter) will list all files under the input directory\n",
    "\n",
    "import os\n",
    "for dirname, _, filenames in os.walk('/kaggle/input'):\n",
    "    for filename in filenames:\n",
    "        print(os.path.join(dirname, filename))\n",
    "\n",
    "# You can write up to 20GB to the current directory (/kaggle/working/) that gets preserved as output when you create a version using \"Save & Run All\" \n",
    "# You can also write temporary files to /kaggle/temp/, but they won't be saved outside of the current session"
   ]
  },
  {
   "cell_type": "code",
   "execution_count": 2,
   "id": "319bbee7",
   "metadata": {
    "execution": {
     "iopub.execute_input": "2021-10-27T17:08:14.417010Z",
     "iopub.status.busy": "2021-10-27T17:08:14.416252Z",
     "iopub.status.idle": "2021-10-27T17:08:15.825857Z",
     "shell.execute_reply": "2021-10-27T17:08:15.825203Z",
     "shell.execute_reply.started": "2021-10-27T16:40:01.365628Z"
    },
    "papermill": {
     "duration": 1.443725,
     "end_time": "2021-10-27T17:08:15.826021",
     "exception": false,
     "start_time": "2021-10-27T17:08:14.382296",
     "status": "completed"
    },
    "tags": []
   },
   "outputs": [],
   "source": [
    "import seaborn as sn\n",
    "import matplotlib.pyplot as plt\n",
    "from sklearn.model_selection import train_test_split\n",
    "from sklearn.ensemble import RandomForestClassifier\n",
    "from sklearn import tree\n",
    "from sklearn.metrics import classification_report\n",
    "from sklearn import preprocessing\n",
    "from sklearn.model_selection import GridSearchCV\n",
    "from sklearn.metrics import roc_auc_score,roc_curve\n",
    "from sklearn.metrics import confusion_matrix"
   ]
  },
  {
   "cell_type": "code",
   "execution_count": 3,
   "id": "4366a5ba",
   "metadata": {
    "execution": {
     "iopub.execute_input": "2021-10-27T17:08:15.887983Z",
     "iopub.status.busy": "2021-10-27T17:08:15.887245Z",
     "iopub.status.idle": "2021-10-27T17:08:15.917972Z",
     "shell.execute_reply": "2021-10-27T17:08:15.917327Z",
     "shell.execute_reply.started": "2021-10-27T16:40:50.086939Z"
    },
    "papermill": {
     "duration": 0.064033,
     "end_time": "2021-10-27T17:08:15.918119",
     "exception": false,
     "start_time": "2021-10-27T17:08:15.854086",
     "status": "completed"
    },
    "tags": []
   },
   "outputs": [
    {
     "data": {
      "text/html": [
       "<div>\n",
       "<style scoped>\n",
       "    .dataframe tbody tr th:only-of-type {\n",
       "        vertical-align: middle;\n",
       "    }\n",
       "\n",
       "    .dataframe tbody tr th {\n",
       "        vertical-align: top;\n",
       "    }\n",
       "\n",
       "    .dataframe thead th {\n",
       "        text-align: right;\n",
       "    }\n",
       "</style>\n",
       "<table border=\"1\" class=\"dataframe\">\n",
       "  <thead>\n",
       "    <tr style=\"text-align: right;\">\n",
       "      <th></th>\n",
       "      <th>Undergrad</th>\n",
       "      <th>Marital.Status</th>\n",
       "      <th>Taxable.Income</th>\n",
       "      <th>City.Population</th>\n",
       "      <th>Work.Experience</th>\n",
       "      <th>Urban</th>\n",
       "    </tr>\n",
       "  </thead>\n",
       "  <tbody>\n",
       "    <tr>\n",
       "      <th>0</th>\n",
       "      <td>NO</td>\n",
       "      <td>Single</td>\n",
       "      <td>68833</td>\n",
       "      <td>50047</td>\n",
       "      <td>10</td>\n",
       "      <td>YES</td>\n",
       "    </tr>\n",
       "    <tr>\n",
       "      <th>1</th>\n",
       "      <td>YES</td>\n",
       "      <td>Divorced</td>\n",
       "      <td>33700</td>\n",
       "      <td>134075</td>\n",
       "      <td>18</td>\n",
       "      <td>YES</td>\n",
       "    </tr>\n",
       "    <tr>\n",
       "      <th>2</th>\n",
       "      <td>NO</td>\n",
       "      <td>Married</td>\n",
       "      <td>36925</td>\n",
       "      <td>160205</td>\n",
       "      <td>30</td>\n",
       "      <td>YES</td>\n",
       "    </tr>\n",
       "    <tr>\n",
       "      <th>3</th>\n",
       "      <td>YES</td>\n",
       "      <td>Single</td>\n",
       "      <td>50190</td>\n",
       "      <td>193264</td>\n",
       "      <td>15</td>\n",
       "      <td>YES</td>\n",
       "    </tr>\n",
       "    <tr>\n",
       "      <th>4</th>\n",
       "      <td>NO</td>\n",
       "      <td>Married</td>\n",
       "      <td>81002</td>\n",
       "      <td>27533</td>\n",
       "      <td>28</td>\n",
       "      <td>NO</td>\n",
       "    </tr>\n",
       "  </tbody>\n",
       "</table>\n",
       "</div>"
      ],
      "text/plain": [
       "  Undergrad Marital.Status  Taxable.Income  City.Population  Work.Experience  \\\n",
       "0        NO         Single           68833            50047               10   \n",
       "1       YES       Divorced           33700           134075               18   \n",
       "2        NO        Married           36925           160205               30   \n",
       "3       YES         Single           50190           193264               15   \n",
       "4        NO        Married           81002            27533               28   \n",
       "\n",
       "  Urban  \n",
       "0   YES  \n",
       "1   YES  \n",
       "2   YES  \n",
       "3   YES  \n",
       "4    NO  "
      ]
     },
     "execution_count": 3,
     "metadata": {},
     "output_type": "execute_result"
    }
   ],
   "source": [
    "#import data\n",
    "fraud = pd.read_csv('/kaggle/input/fraud-check-data/Fraud_check.csv')\n",
    "fraud.head()"
   ]
  },
  {
   "cell_type": "code",
   "execution_count": 4,
   "id": "6e9835ed",
   "metadata": {
    "execution": {
     "iopub.execute_input": "2021-10-27T17:08:15.999721Z",
     "iopub.status.busy": "2021-10-27T17:08:15.998752Z",
     "iopub.status.idle": "2021-10-27T17:08:16.003585Z",
     "shell.execute_reply": "2021-10-27T17:08:16.002702Z",
     "shell.execute_reply.started": "2021-10-27T16:41:04.702790Z"
    },
    "papermill": {
     "duration": 0.055986,
     "end_time": "2021-10-27T17:08:16.003793",
     "exception": false,
     "start_time": "2021-10-27T17:08:15.947807",
     "status": "completed"
    },
    "tags": []
   },
   "outputs": [
    {
     "name": "stdout",
     "output_type": "stream",
     "text": [
      "<class 'pandas.core.frame.DataFrame'>\n",
      "RangeIndex: 600 entries, 0 to 599\n",
      "Data columns (total 6 columns):\n",
      " #   Column           Non-Null Count  Dtype \n",
      "---  ------           --------------  ----- \n",
      " 0   Undergrad        600 non-null    object\n",
      " 1   Marital.Status   600 non-null    object\n",
      " 2   Taxable.Income   600 non-null    int64 \n",
      " 3   City.Population  600 non-null    int64 \n",
      " 4   Work.Experience  600 non-null    int64 \n",
      " 5   Urban            600 non-null    object\n",
      "dtypes: int64(3), object(3)\n",
      "memory usage: 28.2+ KB\n"
     ]
    }
   ],
   "source": [
    "fraud.info()"
   ]
  },
  {
   "cell_type": "markdown",
   "id": "a0b2e7b1",
   "metadata": {
    "papermill": {
     "duration": 0.029415,
     "end_time": "2021-10-27T17:08:16.062909",
     "exception": false,
     "start_time": "2021-10-27T17:08:16.033494",
     "status": "completed"
    },
    "tags": []
   },
   "source": [
    "**Data Preprocessing**"
   ]
  },
  {
   "cell_type": "code",
   "execution_count": 5,
   "id": "a7014ea2",
   "metadata": {
    "execution": {
     "iopub.execute_input": "2021-10-27T17:08:16.137308Z",
     "iopub.status.busy": "2021-10-27T17:08:16.136094Z",
     "iopub.status.idle": "2021-10-27T17:08:16.141503Z",
     "shell.execute_reply": "2021-10-27T17:08:16.140906Z",
     "shell.execute_reply.started": "2021-10-27T16:41:51.117890Z"
    },
    "papermill": {
     "duration": 0.049093,
     "end_time": "2021-10-27T17:08:16.141658",
     "exception": false,
     "start_time": "2021-10-27T17:08:16.092565",
     "status": "completed"
    },
    "tags": []
   },
   "outputs": [
    {
     "data": {
      "text/html": [
       "<div>\n",
       "<style scoped>\n",
       "    .dataframe tbody tr th:only-of-type {\n",
       "        vertical-align: middle;\n",
       "    }\n",
       "\n",
       "    .dataframe tbody tr th {\n",
       "        vertical-align: top;\n",
       "    }\n",
       "\n",
       "    .dataframe thead th {\n",
       "        text-align: right;\n",
       "    }\n",
       "</style>\n",
       "<table border=\"1\" class=\"dataframe\">\n",
       "  <thead>\n",
       "    <tr style=\"text-align: right;\">\n",
       "      <th></th>\n",
       "      <th>Undergrad</th>\n",
       "      <th>marital_status</th>\n",
       "      <th>tax_income</th>\n",
       "      <th>population</th>\n",
       "      <th>work_exp</th>\n",
       "      <th>Urban</th>\n",
       "    </tr>\n",
       "  </thead>\n",
       "  <tbody>\n",
       "    <tr>\n",
       "      <th>0</th>\n",
       "      <td>NO</td>\n",
       "      <td>Single</td>\n",
       "      <td>68833</td>\n",
       "      <td>50047</td>\n",
       "      <td>10</td>\n",
       "      <td>YES</td>\n",
       "    </tr>\n",
       "    <tr>\n",
       "      <th>1</th>\n",
       "      <td>YES</td>\n",
       "      <td>Divorced</td>\n",
       "      <td>33700</td>\n",
       "      <td>134075</td>\n",
       "      <td>18</td>\n",
       "      <td>YES</td>\n",
       "    </tr>\n",
       "    <tr>\n",
       "      <th>2</th>\n",
       "      <td>NO</td>\n",
       "      <td>Married</td>\n",
       "      <td>36925</td>\n",
       "      <td>160205</td>\n",
       "      <td>30</td>\n",
       "      <td>YES</td>\n",
       "    </tr>\n",
       "    <tr>\n",
       "      <th>3</th>\n",
       "      <td>YES</td>\n",
       "      <td>Single</td>\n",
       "      <td>50190</td>\n",
       "      <td>193264</td>\n",
       "      <td>15</td>\n",
       "      <td>YES</td>\n",
       "    </tr>\n",
       "    <tr>\n",
       "      <th>4</th>\n",
       "      <td>NO</td>\n",
       "      <td>Married</td>\n",
       "      <td>81002</td>\n",
       "      <td>27533</td>\n",
       "      <td>28</td>\n",
       "      <td>NO</td>\n",
       "    </tr>\n",
       "  </tbody>\n",
       "</table>\n",
       "</div>"
      ],
      "text/plain": [
       "  Undergrad marital_status  tax_income  population  work_exp Urban\n",
       "0        NO         Single       68833       50047        10   YES\n",
       "1       YES       Divorced       33700      134075        18   YES\n",
       "2        NO        Married       36925      160205        30   YES\n",
       "3       YES         Single       50190      193264        15   YES\n",
       "4        NO        Married       81002       27533        28    NO"
      ]
     },
     "execution_count": 5,
     "metadata": {},
     "output_type": "execute_result"
    }
   ],
   "source": [
    "fraud = fraud.rename(columns={'Marital.Status':'marital_status','Taxable.Income':'tax_income','City.Population':'population','Work.Experience':'work_exp'} )\n",
    "fraud.head()"
   ]
  },
  {
   "cell_type": "code",
   "execution_count": 6,
   "id": "8d4f8229",
   "metadata": {
    "execution": {
     "iopub.execute_input": "2021-10-27T17:08:16.212688Z",
     "iopub.status.busy": "2021-10-27T17:08:16.211980Z",
     "iopub.status.idle": "2021-10-27T17:08:16.214462Z",
     "shell.execute_reply": "2021-10-27T17:08:16.213820Z",
     "shell.execute_reply.started": "2021-10-27T16:42:10.935581Z"
    },
    "papermill": {
     "duration": 0.039824,
     "end_time": "2021-10-27T17:08:16.214612",
     "exception": false,
     "start_time": "2021-10-27T17:08:16.174788",
     "status": "completed"
    },
    "tags": []
   },
   "outputs": [],
   "source": [
    "fraud.drop('population',axis=1,inplace = True)"
   ]
  },
  {
   "cell_type": "code",
   "execution_count": 7,
   "id": "31231571",
   "metadata": {
    "execution": {
     "iopub.execute_input": "2021-10-27T17:08:16.289106Z",
     "iopub.status.busy": "2021-10-27T17:08:16.288404Z",
     "iopub.status.idle": "2021-10-27T17:08:16.292413Z",
     "shell.execute_reply": "2021-10-27T17:08:16.291853Z",
     "shell.execute_reply.started": "2021-10-27T16:45:33.866316Z"
    },
    "papermill": {
     "duration": 0.047789,
     "end_time": "2021-10-27T17:08:16.292594",
     "exception": false,
     "start_time": "2021-10-27T17:08:16.244805",
     "status": "completed"
    },
    "tags": []
   },
   "outputs": [
    {
     "data": {
      "text/html": [
       "<div>\n",
       "<style scoped>\n",
       "    .dataframe tbody tr th:only-of-type {\n",
       "        vertical-align: middle;\n",
       "    }\n",
       "\n",
       "    .dataframe tbody tr th {\n",
       "        vertical-align: top;\n",
       "    }\n",
       "\n",
       "    .dataframe thead th {\n",
       "        text-align: right;\n",
       "    }\n",
       "</style>\n",
       "<table border=\"1\" class=\"dataframe\">\n",
       "  <thead>\n",
       "    <tr style=\"text-align: right;\">\n",
       "      <th></th>\n",
       "      <th>Undergrad</th>\n",
       "      <th>marital_status</th>\n",
       "      <th>tax_income</th>\n",
       "      <th>work_exp</th>\n",
       "      <th>Urban</th>\n",
       "    </tr>\n",
       "  </thead>\n",
       "  <tbody>\n",
       "    <tr>\n",
       "      <th>0</th>\n",
       "      <td>0</td>\n",
       "      <td>2</td>\n",
       "      <td>68833</td>\n",
       "      <td>10</td>\n",
       "      <td>1</td>\n",
       "    </tr>\n",
       "    <tr>\n",
       "      <th>1</th>\n",
       "      <td>1</td>\n",
       "      <td>0</td>\n",
       "      <td>33700</td>\n",
       "      <td>18</td>\n",
       "      <td>1</td>\n",
       "    </tr>\n",
       "    <tr>\n",
       "      <th>2</th>\n",
       "      <td>0</td>\n",
       "      <td>1</td>\n",
       "      <td>36925</td>\n",
       "      <td>30</td>\n",
       "      <td>1</td>\n",
       "    </tr>\n",
       "    <tr>\n",
       "      <th>3</th>\n",
       "      <td>1</td>\n",
       "      <td>2</td>\n",
       "      <td>50190</td>\n",
       "      <td>15</td>\n",
       "      <td>1</td>\n",
       "    </tr>\n",
       "    <tr>\n",
       "      <th>4</th>\n",
       "      <td>0</td>\n",
       "      <td>1</td>\n",
       "      <td>81002</td>\n",
       "      <td>28</td>\n",
       "      <td>0</td>\n",
       "    </tr>\n",
       "  </tbody>\n",
       "</table>\n",
       "</div>"
      ],
      "text/plain": [
       "   Undergrad  marital_status  tax_income  work_exp  Urban\n",
       "0          0               2       68833        10      1\n",
       "1          1               0       33700        18      1\n",
       "2          0               1       36925        30      1\n",
       "3          1               2       50190        15      1\n",
       "4          0               1       81002        28      0"
      ]
     },
     "execution_count": 7,
     "metadata": {},
     "output_type": "execute_result"
    }
   ],
   "source": [
    "#encoding the categorical variables\n",
    "encoder = preprocessing.LabelEncoder()\n",
    "fraud['Undergrad'] = encoder.fit_transform(fraud['Undergrad'])\n",
    "fraud['marital_status'] = encoder.fit_transform(fraud['marital_status'])\n",
    "fraud['Urban'] = encoder.fit_transform(fraud['Urban'])\n",
    "\n",
    "fraud.head()"
   ]
  },
  {
   "cell_type": "code",
   "execution_count": 8,
   "id": "25831b9f",
   "metadata": {
    "execution": {
     "iopub.execute_input": "2021-10-27T17:08:16.356597Z",
     "iopub.status.busy": "2021-10-27T17:08:16.355897Z",
     "iopub.status.idle": "2021-10-27T17:08:16.369488Z",
     "shell.execute_reply": "2021-10-27T17:08:16.370089Z",
     "shell.execute_reply.started": "2021-10-27T16:45:48.641291Z"
    },
    "papermill": {
     "duration": 0.047818,
     "end_time": "2021-10-27T17:08:16.370281",
     "exception": false,
     "start_time": "2021-10-27T17:08:16.322463",
     "status": "completed"
    },
    "tags": []
   },
   "outputs": [
    {
     "data": {
      "text/html": [
       "<div>\n",
       "<style scoped>\n",
       "    .dataframe tbody tr th:only-of-type {\n",
       "        vertical-align: middle;\n",
       "    }\n",
       "\n",
       "    .dataframe tbody tr th {\n",
       "        vertical-align: top;\n",
       "    }\n",
       "\n",
       "    .dataframe thead th {\n",
       "        text-align: right;\n",
       "    }\n",
       "</style>\n",
       "<table border=\"1\" class=\"dataframe\">\n",
       "  <thead>\n",
       "    <tr style=\"text-align: right;\">\n",
       "      <th></th>\n",
       "      <th>Undergrad</th>\n",
       "      <th>marital_status</th>\n",
       "      <th>tax_income</th>\n",
       "      <th>work_exp</th>\n",
       "      <th>Urban</th>\n",
       "      <th>risky</th>\n",
       "    </tr>\n",
       "  </thead>\n",
       "  <tbody>\n",
       "    <tr>\n",
       "      <th>0</th>\n",
       "      <td>0</td>\n",
       "      <td>2</td>\n",
       "      <td>68833</td>\n",
       "      <td>10</td>\n",
       "      <td>1</td>\n",
       "      <td>0</td>\n",
       "    </tr>\n",
       "    <tr>\n",
       "      <th>1</th>\n",
       "      <td>1</td>\n",
       "      <td>0</td>\n",
       "      <td>33700</td>\n",
       "      <td>18</td>\n",
       "      <td>1</td>\n",
       "      <td>0</td>\n",
       "    </tr>\n",
       "    <tr>\n",
       "      <th>2</th>\n",
       "      <td>0</td>\n",
       "      <td>1</td>\n",
       "      <td>36925</td>\n",
       "      <td>30</td>\n",
       "      <td>1</td>\n",
       "      <td>0</td>\n",
       "    </tr>\n",
       "    <tr>\n",
       "      <th>3</th>\n",
       "      <td>1</td>\n",
       "      <td>2</td>\n",
       "      <td>50190</td>\n",
       "      <td>15</td>\n",
       "      <td>1</td>\n",
       "      <td>0</td>\n",
       "    </tr>\n",
       "    <tr>\n",
       "      <th>4</th>\n",
       "      <td>0</td>\n",
       "      <td>1</td>\n",
       "      <td>81002</td>\n",
       "      <td>28</td>\n",
       "      <td>0</td>\n",
       "      <td>0</td>\n",
       "    </tr>\n",
       "  </tbody>\n",
       "</table>\n",
       "</div>"
      ],
      "text/plain": [
       "   Undergrad  marital_status  tax_income  work_exp  Urban risky\n",
       "0          0               2       68833        10      1     0\n",
       "1          1               0       33700        18      1     0\n",
       "2          0               1       36925        30      1     0\n",
       "3          1               2       50190        15      1     0\n",
       "4          0               1       81002        28      0     0"
      ]
     },
     "execution_count": 8,
     "metadata": {},
     "output_type": "execute_result"
    }
   ],
   "source": [
    "fraud['risky']=''\n",
    "fraud.loc[fraud['tax_income']<=30000,'risky']='1'\n",
    "fraud.loc[fraud['tax_income']>30000,'risky']='0'\n",
    "\n",
    "fraud.head()\n"
   ]
  },
  {
   "cell_type": "code",
   "execution_count": 9,
   "id": "814413d3",
   "metadata": {
    "execution": {
     "iopub.execute_input": "2021-10-27T17:08:16.435640Z",
     "iopub.status.busy": "2021-10-27T17:08:16.434878Z",
     "iopub.status.idle": "2021-10-27T17:08:16.448458Z",
     "shell.execute_reply": "2021-10-27T17:08:16.448997Z",
     "shell.execute_reply.started": "2021-10-27T16:46:03.137342Z"
    },
    "papermill": {
     "duration": 0.048051,
     "end_time": "2021-10-27T17:08:16.449176",
     "exception": false,
     "start_time": "2021-10-27T17:08:16.401125",
     "status": "completed"
    },
    "tags": []
   },
   "outputs": [
    {
     "name": "stdout",
     "output_type": "stream",
     "text": [
      "<class 'pandas.core.frame.DataFrame'>\n",
      "RangeIndex: 600 entries, 0 to 599\n",
      "Data columns (total 6 columns):\n",
      " #   Column          Non-Null Count  Dtype \n",
      "---  ------          --------------  ----- \n",
      " 0   Undergrad       600 non-null    int64 \n",
      " 1   marital_status  600 non-null    int64 \n",
      " 2   tax_income      600 non-null    int64 \n",
      " 3   work_exp        600 non-null    int64 \n",
      " 4   Urban           600 non-null    int64 \n",
      " 5   risky           600 non-null    object\n",
      "dtypes: int64(5), object(1)\n",
      "memory usage: 28.2+ KB\n"
     ]
    }
   ],
   "source": [
    "fraud.info()"
   ]
  },
  {
   "cell_type": "code",
   "execution_count": 10,
   "id": "905c880b",
   "metadata": {
    "execution": {
     "iopub.execute_input": "2021-10-27T17:08:16.516103Z",
     "iopub.status.busy": "2021-10-27T17:08:16.515437Z",
     "iopub.status.idle": "2021-10-27T17:08:16.519158Z",
     "shell.execute_reply": "2021-10-27T17:08:16.519725Z",
     "shell.execute_reply.started": "2021-10-27T16:46:29.414913Z"
    },
    "papermill": {
     "duration": 0.040435,
     "end_time": "2021-10-27T17:08:16.519906",
     "exception": false,
     "start_time": "2021-10-27T17:08:16.479471",
     "status": "completed"
    },
    "tags": []
   },
   "outputs": [],
   "source": [
    "fraud.drop('tax_income',axis=1,inplace = True)"
   ]
  },
  {
   "cell_type": "code",
   "execution_count": 11,
   "id": "e76720b9",
   "metadata": {
    "execution": {
     "iopub.execute_input": "2021-10-27T17:08:16.586785Z",
     "iopub.status.busy": "2021-10-27T17:08:16.586083Z",
     "iopub.status.idle": "2021-10-27T17:08:16.592459Z",
     "shell.execute_reply": "2021-10-27T17:08:16.593077Z",
     "shell.execute_reply.started": "2021-10-27T16:48:09.364811Z"
    },
    "papermill": {
     "duration": 0.042706,
     "end_time": "2021-10-27T17:08:16.593280",
     "exception": false,
     "start_time": "2021-10-27T17:08:16.550574",
     "status": "completed"
    },
    "tags": []
   },
   "outputs": [
    {
     "data": {
      "text/plain": [
       "0    476\n",
       "1    124\n",
       "Name: risky, dtype: int64"
      ]
     },
     "execution_count": 11,
     "metadata": {},
     "output_type": "execute_result"
    }
   ],
   "source": [
    "fraud['risky'].value_counts()"
   ]
  },
  {
   "cell_type": "markdown",
   "id": "e1561086",
   "metadata": {
    "papermill": {
     "duration": 0.036643,
     "end_time": "2021-10-27T17:08:16.667567",
     "exception": false,
     "start_time": "2021-10-27T17:08:16.630924",
     "status": "completed"
    },
    "tags": []
   },
   "source": [
    "The data is clearly imbalanced.¶"
   ]
  },
  {
   "cell_type": "code",
   "execution_count": 12,
   "id": "ee679e72",
   "metadata": {
    "execution": {
     "iopub.execute_input": "2021-10-27T17:08:16.735854Z",
     "iopub.status.busy": "2021-10-27T17:08:16.734826Z",
     "iopub.status.idle": "2021-10-27T17:08:16.737336Z",
     "shell.execute_reply": "2021-10-27T17:08:16.736826Z",
     "shell.execute_reply.started": "2021-10-27T16:48:54.532135Z"
    },
    "papermill": {
     "duration": 0.039244,
     "end_time": "2021-10-27T17:08:16.737503",
     "exception": false,
     "start_time": "2021-10-27T17:08:16.698259",
     "status": "completed"
    },
    "tags": []
   },
   "outputs": [],
   "source": [
    "Y = fraud.iloc[:,-1]\n",
    "X = fraud.iloc[:,0:-1]"
   ]
  },
  {
   "cell_type": "code",
   "execution_count": 13,
   "id": "679b4e35",
   "metadata": {
    "execution": {
     "iopub.execute_input": "2021-10-27T17:08:16.803513Z",
     "iopub.status.busy": "2021-10-27T17:08:16.802823Z",
     "iopub.status.idle": "2021-10-27T17:08:16.811640Z",
     "shell.execute_reply": "2021-10-27T17:08:16.811032Z",
     "shell.execute_reply.started": "2021-10-27T16:49:16.862152Z"
    },
    "papermill": {
     "duration": 0.043038,
     "end_time": "2021-10-27T17:08:16.811813",
     "exception": false,
     "start_time": "2021-10-27T17:08:16.768775",
     "status": "completed"
    },
    "tags": []
   },
   "outputs": [],
   "source": [
    "# Splitting data into training and testing data set\n",
    "x_train, x_test,y_train,y_test = train_test_split(X,Y, test_size=0.2,random_state=40)"
   ]
  },
  {
   "cell_type": "markdown",
   "id": "cef0f480",
   "metadata": {
    "papermill": {
     "duration": 0.03103,
     "end_time": "2021-10-27T17:08:16.874246",
     "exception": false,
     "start_time": "2021-10-27T17:08:16.843216",
     "status": "completed"
    },
    "tags": []
   },
   "source": [
    "# **Random Forest Classification- hyperparameter tuning using Gridsearch**"
   ]
  },
  {
   "cell_type": "code",
   "execution_count": 14,
   "id": "32aa3a98",
   "metadata": {
    "execution": {
     "iopub.execute_input": "2021-10-27T17:08:16.942804Z",
     "iopub.status.busy": "2021-10-27T17:08:16.942064Z",
     "iopub.status.idle": "2021-10-27T17:08:16.943840Z",
     "shell.execute_reply": "2021-10-27T17:08:16.944289Z",
     "shell.execute_reply.started": "2021-10-27T16:50:29.591804Z"
    },
    "papermill": {
     "duration": 0.039694,
     "end_time": "2021-10-27T17:08:16.944495",
     "exception": false,
     "start_time": "2021-10-27T17:08:16.904801",
     "status": "completed"
    },
    "tags": []
   },
   "outputs": [],
   "source": [
    "parameters = [{'n_estimators':[10, 20,100], \n",
    "              'max_depth':range(2,10),\n",
    "               'max_features': [3]\n",
    "             }]\n",
    "\n",
    "clf_tree = RandomForestClassifier()\n",
    "clf = GridSearchCV(clf_tree,parameters,cv=5,scoring = 'roc_auc')"
   ]
  },
  {
   "cell_type": "code",
   "execution_count": 15,
   "id": "d90e4199",
   "metadata": {
    "execution": {
     "iopub.execute_input": "2021-10-27T17:08:17.021784Z",
     "iopub.status.busy": "2021-10-27T17:08:17.010210Z",
     "iopub.status.idle": "2021-10-27T17:08:28.469277Z",
     "shell.execute_reply": "2021-10-27T17:08:28.469927Z",
     "shell.execute_reply.started": "2021-10-27T16:50:54.370297Z"
    },
    "papermill": {
     "duration": 11.493934,
     "end_time": "2021-10-27T17:08:28.470112",
     "exception": false,
     "start_time": "2021-10-27T17:08:16.976178",
     "status": "completed"
    },
    "tags": []
   },
   "outputs": [
    {
     "data": {
      "text/plain": [
       "GridSearchCV(cv=5, estimator=RandomForestClassifier(),\n",
       "             param_grid=[{'max_depth': range(2, 10), 'max_features': [3],\n",
       "                          'n_estimators': [10, 20, 100]}],\n",
       "             scoring='roc_auc')"
      ]
     },
     "execution_count": 15,
     "metadata": {},
     "output_type": "execute_result"
    }
   ],
   "source": [
    "#fitting the model\n",
    "clf.fit(x_train,y_train)"
   ]
  },
  {
   "cell_type": "code",
   "execution_count": 16,
   "id": "38f73ff7",
   "metadata": {
    "execution": {
     "iopub.execute_input": "2021-10-27T17:08:28.538888Z",
     "iopub.status.busy": "2021-10-27T17:08:28.537899Z",
     "iopub.status.idle": "2021-10-27T17:08:28.542342Z",
     "shell.execute_reply": "2021-10-27T17:08:28.541780Z",
     "shell.execute_reply.started": "2021-10-27T16:51:34.000131Z"
    },
    "papermill": {
     "duration": 0.040995,
     "end_time": "2021-10-27T17:08:28.542545",
     "exception": false,
     "start_time": "2021-10-27T17:08:28.501550",
     "status": "completed"
    },
    "tags": []
   },
   "outputs": [
    {
     "data": {
      "text/plain": [
       "0.46728041695146966"
      ]
     },
     "execution_count": 16,
     "metadata": {},
     "output_type": "execute_result"
    }
   ],
   "source": [
    "clf.best_score_"
   ]
  },
  {
   "cell_type": "markdown",
   "id": "859f0080",
   "metadata": {
    "papermill": {
     "duration": 0.030901,
     "end_time": "2021-10-27T17:08:28.604959",
     "exception": false,
     "start_time": "2021-10-27T17:08:28.574058",
     "status": "completed"
    },
    "tags": []
   },
   "source": [
    "**The best accuracy score is 0.46 , which is not good.**"
   ]
  },
  {
   "cell_type": "code",
   "execution_count": 17,
   "id": "0d00ec2f",
   "metadata": {
    "execution": {
     "iopub.execute_input": "2021-10-27T17:08:28.672102Z",
     "iopub.status.busy": "2021-10-27T17:08:28.671076Z",
     "iopub.status.idle": "2021-10-27T17:08:28.676687Z",
     "shell.execute_reply": "2021-10-27T17:08:28.677234Z",
     "shell.execute_reply.started": "2021-10-27T16:52:18.499058Z"
    },
    "papermill": {
     "duration": 0.040811,
     "end_time": "2021-10-27T17:08:28.677423",
     "exception": false,
     "start_time": "2021-10-27T17:08:28.636612",
     "status": "completed"
    },
    "tags": []
   },
   "outputs": [
    {
     "data": {
      "text/plain": [
       "{'max_depth': 2, 'max_features': 3, 'n_estimators': 100}"
      ]
     },
     "execution_count": 17,
     "metadata": {},
     "output_type": "execute_result"
    }
   ],
   "source": [
    "clf.best_params_"
   ]
  },
  {
   "cell_type": "markdown",
   "id": "23db72b6",
   "metadata": {
    "papermill": {
     "duration": 0.03197,
     "end_time": "2021-10-27T17:08:28.740810",
     "exception": false,
     "start_time": "2021-10-27T17:08:28.708840",
     "status": "completed"
    },
    "tags": []
   },
   "source": [
    "**Since, best parameters are max_depth =2 with maximum features 3, we will build the final model with optimal parameter values.**"
   ]
  },
  {
   "cell_type": "markdown",
   "id": "2622540a",
   "metadata": {
    "papermill": {
     "duration": 0.030982,
     "end_time": "2021-10-27T17:08:28.803302",
     "exception": false,
     "start_time": "2021-10-27T17:08:28.772320",
     "status": "completed"
    },
    "tags": []
   },
   "source": [
    "## **Building Model with optimal parameters**"
   ]
  },
  {
   "cell_type": "code",
   "execution_count": 18,
   "id": "f667620f",
   "metadata": {
    "execution": {
     "iopub.execute_input": "2021-10-27T17:08:28.871032Z",
     "iopub.status.busy": "2021-10-27T17:08:28.870011Z",
     "iopub.status.idle": "2021-10-27T17:08:28.875013Z",
     "shell.execute_reply": "2021-10-27T17:08:28.875615Z",
     "shell.execute_reply.started": "2021-10-27T16:54:02.214424Z"
    },
    "papermill": {
     "duration": 0.04123,
     "end_time": "2021-10-27T17:08:28.875799",
     "exception": false,
     "start_time": "2021-10-27T17:08:28.834569",
     "status": "completed"
    },
    "tags": []
   },
   "outputs": [],
   "source": [
    "clf_randf = RandomForestClassifier(n_estimators = 10, max_depth = 2,max_features = 3)"
   ]
  },
  {
   "cell_type": "code",
   "execution_count": 19,
   "id": "66b8ca24",
   "metadata": {
    "execution": {
     "iopub.execute_input": "2021-10-27T17:08:28.943437Z",
     "iopub.status.busy": "2021-10-27T17:08:28.942490Z",
     "iopub.status.idle": "2021-10-27T17:08:28.970935Z",
     "shell.execute_reply": "2021-10-27T17:08:28.971523Z",
     "shell.execute_reply.started": "2021-10-27T16:54:17.273329Z"
    },
    "papermill": {
     "duration": 0.064052,
     "end_time": "2021-10-27T17:08:28.971707",
     "exception": false,
     "start_time": "2021-10-27T17:08:28.907655",
     "status": "completed"
    },
    "tags": []
   },
   "outputs": [
    {
     "data": {
      "text/plain": [
       "RandomForestClassifier(max_depth=2, max_features=3, n_estimators=10)"
      ]
     },
     "execution_count": 19,
     "metadata": {},
     "output_type": "execute_result"
    }
   ],
   "source": [
    "clf_randf.fit(x_train,y_train)"
   ]
  },
  {
   "cell_type": "code",
   "execution_count": 20,
   "id": "6d90ba18",
   "metadata": {
    "execution": {
     "iopub.execute_input": "2021-10-27T17:08:29.040301Z",
     "iopub.status.busy": "2021-10-27T17:08:29.039277Z",
     "iopub.status.idle": "2021-10-27T17:08:29.054172Z",
     "shell.execute_reply": "2021-10-27T17:08:29.054872Z",
     "shell.execute_reply.started": "2021-10-27T16:54:28.254723Z"
    },
    "papermill": {
     "duration": 0.050801,
     "end_time": "2021-10-27T17:08:29.055062",
     "exception": false,
     "start_time": "2021-10-27T17:08:29.004261",
     "status": "completed"
    },
    "tags": []
   },
   "outputs": [
    {
     "data": {
      "text/html": [
       "<div>\n",
       "<style scoped>\n",
       "    .dataframe tbody tr th:only-of-type {\n",
       "        vertical-align: middle;\n",
       "    }\n",
       "\n",
       "    .dataframe tbody tr th {\n",
       "        vertical-align: top;\n",
       "    }\n",
       "\n",
       "    .dataframe thead th {\n",
       "        text-align: right;\n",
       "    }\n",
       "</style>\n",
       "<table border=\"1\" class=\"dataframe\">\n",
       "  <thead>\n",
       "    <tr style=\"text-align: right;\">\n",
       "      <th></th>\n",
       "      <th>actual</th>\n",
       "      <th>predicted</th>\n",
       "    </tr>\n",
       "  </thead>\n",
       "  <tbody>\n",
       "    <tr>\n",
       "      <th>159</th>\n",
       "      <td>0</td>\n",
       "      <td>0</td>\n",
       "    </tr>\n",
       "    <tr>\n",
       "      <th>307</th>\n",
       "      <td>0</td>\n",
       "      <td>0</td>\n",
       "    </tr>\n",
       "    <tr>\n",
       "      <th>253</th>\n",
       "      <td>0</td>\n",
       "      <td>0</td>\n",
       "    </tr>\n",
       "    <tr>\n",
       "      <th>528</th>\n",
       "      <td>0</td>\n",
       "      <td>0</td>\n",
       "    </tr>\n",
       "    <tr>\n",
       "      <th>137</th>\n",
       "      <td>1</td>\n",
       "      <td>0</td>\n",
       "    </tr>\n",
       "  </tbody>\n",
       "</table>\n",
       "</div>"
      ],
      "text/plain": [
       "    actual predicted\n",
       "159      0         0\n",
       "307      0         0\n",
       "253      0         0\n",
       "528      0         0\n",
       "137      1         0"
      ]
     },
     "execution_count": 20,
     "metadata": {},
     "output_type": "execute_result"
    }
   ],
   "source": [
    "y_pred = clf_randf.predict(x_test)\n",
    "test_results = pd.DataFrame({'actual':y_test,'predicted':y_pred})\n",
    "test_results.head()"
   ]
  },
  {
   "cell_type": "markdown",
   "id": "a365f71f",
   "metadata": {
    "papermill": {
     "duration": 0.032641,
     "end_time": "2021-10-27T17:08:29.120740",
     "exception": false,
     "start_time": "2021-10-27T17:08:29.088099",
     "status": "completed"
    },
    "tags": []
   },
   "source": [
    "## **Measuring Test Acuuracy**"
   ]
  },
  {
   "cell_type": "code",
   "execution_count": 21,
   "id": "164c2e44",
   "metadata": {
    "execution": {
     "iopub.execute_input": "2021-10-27T17:08:29.189804Z",
     "iopub.status.busy": "2021-10-27T17:08:29.188853Z",
     "iopub.status.idle": "2021-10-27T17:08:29.196609Z",
     "shell.execute_reply": "2021-10-27T17:08:29.197175Z",
     "shell.execute_reply.started": "2021-10-27T16:55:23.167232Z"
    },
    "papermill": {
     "duration": 0.044526,
     "end_time": "2021-10-27T17:08:29.197352",
     "exception": false,
     "start_time": "2021-10-27T17:08:29.152826",
     "status": "completed"
    },
    "tags": []
   },
   "outputs": [
    {
     "data": {
      "text/plain": [
       "0.5"
      ]
     },
     "execution_count": 21,
     "metadata": {},
     "output_type": "execute_result"
    }
   ],
   "source": [
    "roc_auc_score(y_test,y_pred)"
   ]
  },
  {
   "cell_type": "markdown",
   "id": "e3e393e6",
   "metadata": {
    "papermill": {
     "duration": 0.032212,
     "end_time": "2021-10-27T17:08:29.262464",
     "exception": false,
     "start_time": "2021-10-27T17:08:29.230252",
     "status": "completed"
    },
    "tags": []
   },
   "source": [
    "**Confusion Matrix**"
   ]
  },
  {
   "cell_type": "code",
   "execution_count": 22,
   "id": "80263574",
   "metadata": {
    "execution": {
     "iopub.execute_input": "2021-10-27T17:08:29.407257Z",
     "iopub.status.busy": "2021-10-27T17:08:29.406629Z",
     "iopub.status.idle": "2021-10-27T17:08:29.412821Z",
     "shell.execute_reply": "2021-10-27T17:08:29.413441Z",
     "shell.execute_reply.started": "2021-10-27T16:55:50.164519Z"
    },
    "papermill": {
     "duration": 0.118755,
     "end_time": "2021-10-27T17:08:29.413632",
     "exception": false,
     "start_time": "2021-10-27T17:08:29.294877",
     "status": "completed"
    },
    "tags": []
   },
   "outputs": [
    {
     "data": {
      "text/plain": [
       "array([[92,  0],\n",
       "       [28,  0]])"
      ]
     },
     "execution_count": 22,
     "metadata": {},
     "output_type": "execute_result"
    }
   ],
   "source": [
    "cm = confusion_matrix(y_test, y_pred)\n",
    "cm"
   ]
  },
  {
   "cell_type": "markdown",
   "id": "ffc610ff",
   "metadata": {
    "papermill": {
     "duration": 0.033445,
     "end_time": "2021-10-27T17:08:29.481578",
     "exception": false,
     "start_time": "2021-10-27T17:08:29.448133",
     "status": "completed"
    },
    "tags": []
   },
   "source": [
    "**Classification Report**"
   ]
  },
  {
   "cell_type": "code",
   "execution_count": 23,
   "id": "0e50421f",
   "metadata": {
    "execution": {
     "iopub.execute_input": "2021-10-27T17:08:29.556603Z",
     "iopub.status.busy": "2021-10-27T17:08:29.555793Z",
     "iopub.status.idle": "2021-10-27T17:08:29.569429Z",
     "shell.execute_reply": "2021-10-27T17:08:29.568866Z",
     "shell.execute_reply.started": "2021-10-27T16:56:23.441322Z"
    },
    "papermill": {
     "duration": 0.054836,
     "end_time": "2021-10-27T17:08:29.569580",
     "exception": false,
     "start_time": "2021-10-27T17:08:29.514744",
     "status": "completed"
    },
    "tags": []
   },
   "outputs": [
    {
     "name": "stdout",
     "output_type": "stream",
     "text": [
      "              precision    recall  f1-score   support\n",
      "\n",
      "           0       0.77      1.00      0.87        92\n",
      "           1       0.00      0.00      0.00        28\n",
      "\n",
      "    accuracy                           0.77       120\n",
      "   macro avg       0.38      0.50      0.43       120\n",
      "weighted avg       0.59      0.77      0.67       120\n",
      "\n"
     ]
    },
    {
     "name": "stderr",
     "output_type": "stream",
     "text": [
      "/opt/conda/lib/python3.7/site-packages/sklearn/metrics/_classification.py:1221: UndefinedMetricWarning: Precision and F-score are ill-defined and being set to 0.0 in labels with no predicted samples. Use `zero_division` parameter to control this behavior.\n",
      "  _warn_prf(average, modifier, msg_start, len(result))\n"
     ]
    }
   ],
   "source": [
    "print(classification_report(y_test, y_pred))"
   ]
  },
  {
   "cell_type": "markdown",
   "id": "1e09d48e",
   "metadata": {
    "papermill": {
     "duration": 0.033717,
     "end_time": "2021-10-27T17:08:29.638196",
     "exception": false,
     "start_time": "2021-10-27T17:08:29.604479",
     "status": "completed"
    },
    "tags": []
   },
   "source": [
    "## **Feature Selection**"
   ]
  },
  {
   "cell_type": "code",
   "execution_count": 24,
   "id": "f73300f3",
   "metadata": {
    "execution": {
     "iopub.execute_input": "2021-10-27T17:08:29.711348Z",
     "iopub.status.busy": "2021-10-27T17:08:29.710719Z",
     "iopub.status.idle": "2021-10-27T17:08:29.936132Z",
     "shell.execute_reply": "2021-10-27T17:08:29.935548Z",
     "shell.execute_reply.started": "2021-10-27T16:57:00.584594Z"
    },
    "papermill": {
     "duration": 0.264042,
     "end_time": "2021-10-27T17:08:29.936293",
     "exception": false,
     "start_time": "2021-10-27T17:08:29.672251",
     "status": "completed"
    },
    "tags": []
   },
   "outputs": [
    {
     "data": {
      "text/plain": [
       "<AxesSubplot:xlabel='importance', ylabel='feature'>"
      ]
     },
     "execution_count": 24,
     "metadata": {},
     "output_type": "execute_result"
    },
    {
     "data": {
      "image/png": "[encoded data removed]",
      "text/plain": [
       "<Figure size 576x432 with 1 Axes>"
      ]
     },
     "metadata": {
      "needs_background": "light"
     },
     "output_type": "display_data"
    }
   ],
   "source": [
    "feature_rank = pd.DataFrame({'feature': x_train.columns,\n",
    "                            'importance': clf_randf.feature_importances_})\n",
    "\n",
    "feature_rank = feature_rank.sort_values('importance',ascending = False)\n",
    "plt.figure(figsize=(8,6))\n",
    "sn.barplot(y='feature',x='importance',data = feature_rank)"
   ]
  },
  {
   "cell_type": "code",
   "execution_count": 25,
   "id": "cf958703",
   "metadata": {
    "execution": {
     "iopub.execute_input": "2021-10-27T17:08:30.015685Z",
     "iopub.status.busy": "2021-10-27T17:08:30.011427Z",
     "iopub.status.idle": "2021-10-27T17:08:30.018175Z",
     "shell.execute_reply": "2021-10-27T17:08:30.018769Z",
     "shell.execute_reply.started": "2021-10-27T16:57:13.288842Z"
    },
    "papermill": {
     "duration": 0.046368,
     "end_time": "2021-10-27T17:08:30.018955",
     "exception": false,
     "start_time": "2021-10-27T17:08:29.972587",
     "status": "completed"
    },
    "tags": []
   },
   "outputs": [
    {
     "data": {
      "text/plain": [
       "2    0.402323\n",
       "1    0.326186\n",
       "0    0.219757\n",
       "3    0.051735\n",
       "Name: importance, dtype: float64"
      ]
     },
     "execution_count": 25,
     "metadata": {},
     "output_type": "execute_result"
    }
   ],
   "source": [
    "feature_rank.importance"
   ]
  },
  {
   "cell_type": "markdown",
   "id": "254f0e25",
   "metadata": {
    "papermill": {
     "duration": 0.035372,
     "end_time": "2021-10-27T17:08:30.089825",
     "exception": false,
     "start_time": "2021-10-27T17:08:30.054453",
     "status": "completed"
    },
    "tags": []
   },
   "source": [
    "we can see that work_exp is the best feature,it alone explains 60 % of information in the data w.r.t the target variable. The top features together explains almost 96% of the information. Urban is the worst feature here."
   ]
  },
  {
   "cell_type": "markdown",
   "id": "874088a5",
   "metadata": {
    "papermill": {
     "duration": 0.034843,
     "end_time": "2021-10-27T17:08:30.159811",
     "exception": false,
     "start_time": "2021-10-27T17:08:30.124968",
     "status": "completed"
    },
    "tags": []
   },
   "source": [
    "## **Final Conclusions**"
   ]
  },
  {
   "cell_type": "markdown",
   "id": "f81a6f4c",
   "metadata": {
    "papermill": {
     "duration": 0.035675,
     "end_time": "2021-10-27T17:08:30.230986",
     "exception": false,
     "start_time": "2021-10-27T17:08:30.195311",
     "status": "completed"
    },
    "tags": []
   },
   "source": [
    "1. In the model, the training-set accuracy score is 0.46 while the test-set accuracy to be 0.5. These two values are quite comparable. So, there is no sign of overfitting.\n",
    "2. From the confusion matrix we see that it predicts the good class perfectly but cannot predict the risk class at all.\n",
    "3. From the classification report we see that the recall for 0 is 1 and for 1 it is 0, thus proving the previous point. This could be due to an imbalanced dataset.\n"
   ]
  },
  {
   "cell_type": "markdown",
   "id": "b3dc1668",
   "metadata": {
    "papermill": {
     "duration": 0.034954,
     "end_time": "2021-10-27T17:08:30.301274",
     "exception": false,
     "start_time": "2021-10-27T17:08:30.266320",
     "status": "completed"
    },
    "tags": []
   },
   "source": [
    "**Here, I have done some basic works,I will update the notebook after balancing the dataset to see if the model accuracy improves.**"
   ]
  }
 ],
 "metadata": {
  "kernelspec": {
   "display_name": "Python 3",
   "language": "python",
   "name": "python3"
  },
  "language_info": {
   "codemirror_mode": {
    "name": "ipython",
    "version": 3
   },
   "file_extension": ".py",
   "mimetype": "text/x-python",
   "name": "python",
   "nbconvert_exporter": "python",
   "pygments_lexer": "ipython3",
   "version": "3.7.10"
  },
  "papermill": {
   "default_parameters": {},
   "duration": 26.862331,
   "end_time": "2021-10-27T17:08:31.350167",
   "environment_variables": {},
   "exception": null,
   "input_path": "__notebook__.ipynb",
   "output_path": "__notebook__.ipynb",
   "parameters": {},
   "start_time": "2021-10-27T17:08:04.487836",
   "version": "2.3.3"
  }
 },
 "nbformat": 4,
 "nbformat_minor": 5
}
