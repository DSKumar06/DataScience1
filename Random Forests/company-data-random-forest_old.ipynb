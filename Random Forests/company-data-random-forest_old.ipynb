{
 "cells": [
  {
   "cell_type": "code",
   "execution_count": 1,
   "metadata": {
    "id": "Br8pJV1tvMfT"
   },
   "outputs": [],
   "source": [
    "import pandas as pd\n",
    "import numpy as np\n",
    "import matplotlib.pyplot as plt\n",
    "import seaborn as sns"
   ]
  },
  {
   "cell_type": "code",
   "execution_count": 2,
   "metadata": {
    "colab": {
     "base_uri": "https://localhost:8080/",
     "height": 206
    },
    "id": "Kpb0HeWYwjch",
    "outputId": "86512075-37a0-4901-c0c1-c862ed387f45"
   },
   "outputs": [
    {
     "data": {
      "text/html": [
       "<div>\n",
       "<style scoped>\n",
       "    .dataframe tbody tr th:only-of-type {\n",
       "        vertical-align: middle;\n",
       "    }\n",
       "\n",
       "    .dataframe tbody tr th {\n",
       "        vertical-align: top;\n",
       "    }\n",
       "\n",
       "    .dataframe thead th {\n",
       "        text-align: right;\n",
       "    }\n",
       "</style>\n",
       "<table border=\"1\" class=\"dataframe\">\n",
       "  <thead>\n",
       "    <tr style=\"text-align: right;\">\n",
       "      <th></th>\n",
       "      <th>Sales</th>\n",
       "      <th>CompPrice</th>\n",
       "      <th>Income</th>\n",
       "      <th>Advertising</th>\n",
       "      <th>Population</th>\n",
       "      <th>Price</th>\n",
       "      <th>ShelveLoc</th>\n",
       "      <th>Age</th>\n",
       "      <th>Education</th>\n",
       "      <th>Urban</th>\n",
       "      <th>US</th>\n",
       "    </tr>\n",
       "  </thead>\n",
       "  <tbody>\n",
       "    <tr>\n",
       "      <th>0</th>\n",
       "      <td>9.50</td>\n",
       "      <td>138</td>\n",
       "      <td>73</td>\n",
       "      <td>11</td>\n",
       "      <td>276</td>\n",
       "      <td>120</td>\n",
       "      <td>Bad</td>\n",
       "      <td>42</td>\n",
       "      <td>17</td>\n",
       "      <td>Yes</td>\n",
       "      <td>Yes</td>\n",
       "    </tr>\n",
       "    <tr>\n",
       "      <th>1</th>\n",
       "      <td>11.22</td>\n",
       "      <td>111</td>\n",
       "      <td>48</td>\n",
       "      <td>16</td>\n",
       "      <td>260</td>\n",
       "      <td>83</td>\n",
       "      <td>Good</td>\n",
       "      <td>65</td>\n",
       "      <td>10</td>\n",
       "      <td>Yes</td>\n",
       "      <td>Yes</td>\n",
       "    </tr>\n",
       "    <tr>\n",
       "      <th>2</th>\n",
       "      <td>10.06</td>\n",
       "      <td>113</td>\n",
       "      <td>35</td>\n",
       "      <td>10</td>\n",
       "      <td>269</td>\n",
       "      <td>80</td>\n",
       "      <td>Medium</td>\n",
       "      <td>59</td>\n",
       "      <td>12</td>\n",
       "      <td>Yes</td>\n",
       "      <td>Yes</td>\n",
       "    </tr>\n",
       "    <tr>\n",
       "      <th>3</th>\n",
       "      <td>7.40</td>\n",
       "      <td>117</td>\n",
       "      <td>100</td>\n",
       "      <td>4</td>\n",
       "      <td>466</td>\n",
       "      <td>97</td>\n",
       "      <td>Medium</td>\n",
       "      <td>55</td>\n",
       "      <td>14</td>\n",
       "      <td>Yes</td>\n",
       "      <td>Yes</td>\n",
       "    </tr>\n",
       "    <tr>\n",
       "      <th>4</th>\n",
       "      <td>4.15</td>\n",
       "      <td>141</td>\n",
       "      <td>64</td>\n",
       "      <td>3</td>\n",
       "      <td>340</td>\n",
       "      <td>128</td>\n",
       "      <td>Bad</td>\n",
       "      <td>38</td>\n",
       "      <td>13</td>\n",
       "      <td>Yes</td>\n",
       "      <td>No</td>\n",
       "    </tr>\n",
       "  </tbody>\n",
       "</table>\n",
       "</div>"
      ],
      "text/plain": [
       "   Sales  CompPrice  Income  Advertising  Population  Price ShelveLoc  Age  \\\n",
       "0   9.50        138      73           11         276    120       Bad   42   \n",
       "1  11.22        111      48           16         260     83      Good   65   \n",
       "2  10.06        113      35           10         269     80    Medium   59   \n",
       "3   7.40        117     100            4         466     97    Medium   55   \n",
       "4   4.15        141      64            3         340    128       Bad   38   \n",
       "\n",
       "   Education Urban   US  \n",
       "0         17   Yes  Yes  \n",
       "1         10   Yes  Yes  \n",
       "2         12   Yes  Yes  \n",
       "3         14   Yes  Yes  \n",
       "4         13   Yes   No  "
      ]
     },
     "execution_count": 2,
     "metadata": {},
     "output_type": "execute_result"
    }
   ],
   "source": [
    "raw_data = pd.read_csv(\"Company_Data.csv\")\n",
    "raw_data.head()"
   ]
  },
  {
   "cell_type": "code",
   "execution_count": 3,
   "metadata": {
    "colab": {
     "base_uri": "https://localhost:8080/"
    },
    "id": "gqPHvOR6w35r",
    "outputId": "9989715d-dc81-42c7-b583-db60384201e1"
   },
   "outputs": [
    {
     "name": "stdout",
     "output_type": "stream",
     "text": [
      "<class 'pandas.core.frame.DataFrame'>\n",
      "RangeIndex: 400 entries, 0 to 399\n",
      "Data columns (total 11 columns):\n",
      " #   Column       Non-Null Count  Dtype  \n",
      "---  ------       --------------  -----  \n",
      " 0   Sales        400 non-null    float64\n",
      " 1   CompPrice    400 non-null    int64  \n",
      " 2   Income       400 non-null    int64  \n",
      " 3   Advertising  400 non-null    int64  \n",
      " 4   Population   400 non-null    int64  \n",
      " 5   Price        400 non-null    int64  \n",
      " 6   ShelveLoc    400 non-null    object \n",
      " 7   Age          400 non-null    int64  \n",
      " 8   Education    400 non-null    int64  \n",
      " 9   Urban        400 non-null    object \n",
      " 10  US           400 non-null    object \n",
      "dtypes: float64(1), int64(7), object(3)\n",
      "memory usage: 34.5+ KB\n"
     ]
    }
   ],
   "source": [
    "raw_data.info()"
   ]
  },
  {
   "cell_type": "code",
   "execution_count": 4,
   "metadata": {
    "colab": {
     "base_uri": "https://localhost:8080/"
    },
    "id": "Vf-raBaZxVnV",
    "outputId": "b5021f35-7606-4284-eff7-fbc572e4a3a2"
   },
   "outputs": [
    {
     "data": {
      "text/plain": [
       "Sales          0\n",
       "CompPrice      0\n",
       "Income         0\n",
       "Advertising    0\n",
       "Population     0\n",
       "Price          0\n",
       "ShelveLoc      0\n",
       "Age            0\n",
       "Education      0\n",
       "Urban          0\n",
       "US             0\n",
       "dtype: int64"
      ]
     },
     "execution_count": 4,
     "metadata": {},
     "output_type": "execute_result"
    }
   ],
   "source": [
    "raw_data.isnull().sum()"
   ]
  },
  {
   "cell_type": "code",
   "execution_count": 5,
   "metadata": {
    "colab": {
     "base_uri": "https://localhost:8080/"
    },
    "id": "WB7CyY0sxg5-",
    "outputId": "eb3bd989-e783-425f-e7c1-5a629192bd56"
   },
   "outputs": [
    {
     "data": {
      "text/plain": [
       "336"
      ]
     },
     "execution_count": 5,
     "metadata": {},
     "output_type": "execute_result"
    }
   ],
   "source": [
    "raw_data['Sales'].nunique()"
   ]
  },
  {
   "cell_type": "code",
   "execution_count": 6,
   "metadata": {
    "colab": {
     "base_uri": "https://localhost:8080/",
     "height": 300
    },
    "id": "DBvx4upYyMgI",
    "outputId": "2c92d6f7-25c3-4873-90d2-816ac46aa239"
   },
   "outputs": [
    {
     "data": {
      "text/html": [
       "<div>\n",
       "<style scoped>\n",
       "    .dataframe tbody tr th:only-of-type {\n",
       "        vertical-align: middle;\n",
       "    }\n",
       "\n",
       "    .dataframe tbody tr th {\n",
       "        vertical-align: top;\n",
       "    }\n",
       "\n",
       "    .dataframe thead th {\n",
       "        text-align: right;\n",
       "    }\n",
       "</style>\n",
       "<table border=\"1\" class=\"dataframe\">\n",
       "  <thead>\n",
       "    <tr style=\"text-align: right;\">\n",
       "      <th></th>\n",
       "      <th>Sales</th>\n",
       "      <th>CompPrice</th>\n",
       "      <th>Income</th>\n",
       "      <th>Advertising</th>\n",
       "      <th>Population</th>\n",
       "      <th>Price</th>\n",
       "      <th>Age</th>\n",
       "      <th>Education</th>\n",
       "    </tr>\n",
       "  </thead>\n",
       "  <tbody>\n",
       "    <tr>\n",
       "      <th>count</th>\n",
       "      <td>400.000000</td>\n",
       "      <td>400.000000</td>\n",
       "      <td>400.000000</td>\n",
       "      <td>400.000000</td>\n",
       "      <td>400.000000</td>\n",
       "      <td>400.000000</td>\n",
       "      <td>400.000000</td>\n",
       "      <td>400.000000</td>\n",
       "    </tr>\n",
       "    <tr>\n",
       "      <th>mean</th>\n",
       "      <td>7.496325</td>\n",
       "      <td>124.975000</td>\n",
       "      <td>68.657500</td>\n",
       "      <td>6.635000</td>\n",
       "      <td>264.840000</td>\n",
       "      <td>115.795000</td>\n",
       "      <td>53.322500</td>\n",
       "      <td>13.900000</td>\n",
       "    </tr>\n",
       "    <tr>\n",
       "      <th>std</th>\n",
       "      <td>2.824115</td>\n",
       "      <td>15.334512</td>\n",
       "      <td>27.986037</td>\n",
       "      <td>6.650364</td>\n",
       "      <td>147.376436</td>\n",
       "      <td>23.676664</td>\n",
       "      <td>16.200297</td>\n",
       "      <td>2.620528</td>\n",
       "    </tr>\n",
       "    <tr>\n",
       "      <th>min</th>\n",
       "      <td>0.000000</td>\n",
       "      <td>77.000000</td>\n",
       "      <td>21.000000</td>\n",
       "      <td>0.000000</td>\n",
       "      <td>10.000000</td>\n",
       "      <td>24.000000</td>\n",
       "      <td>25.000000</td>\n",
       "      <td>10.000000</td>\n",
       "    </tr>\n",
       "    <tr>\n",
       "      <th>25%</th>\n",
       "      <td>5.390000</td>\n",
       "      <td>115.000000</td>\n",
       "      <td>42.750000</td>\n",
       "      <td>0.000000</td>\n",
       "      <td>139.000000</td>\n",
       "      <td>100.000000</td>\n",
       "      <td>39.750000</td>\n",
       "      <td>12.000000</td>\n",
       "    </tr>\n",
       "    <tr>\n",
       "      <th>50%</th>\n",
       "      <td>7.490000</td>\n",
       "      <td>125.000000</td>\n",
       "      <td>69.000000</td>\n",
       "      <td>5.000000</td>\n",
       "      <td>272.000000</td>\n",
       "      <td>117.000000</td>\n",
       "      <td>54.500000</td>\n",
       "      <td>14.000000</td>\n",
       "    </tr>\n",
       "    <tr>\n",
       "      <th>75%</th>\n",
       "      <td>9.320000</td>\n",
       "      <td>135.000000</td>\n",
       "      <td>91.000000</td>\n",
       "      <td>12.000000</td>\n",
       "      <td>398.500000</td>\n",
       "      <td>131.000000</td>\n",
       "      <td>66.000000</td>\n",
       "      <td>16.000000</td>\n",
       "    </tr>\n",
       "    <tr>\n",
       "      <th>max</th>\n",
       "      <td>16.270000</td>\n",
       "      <td>175.000000</td>\n",
       "      <td>120.000000</td>\n",
       "      <td>29.000000</td>\n",
       "      <td>509.000000</td>\n",
       "      <td>191.000000</td>\n",
       "      <td>80.000000</td>\n",
       "      <td>18.000000</td>\n",
       "    </tr>\n",
       "  </tbody>\n",
       "</table>\n",
       "</div>"
      ],
      "text/plain": [
       "            Sales   CompPrice      Income  Advertising  Population  \\\n",
       "count  400.000000  400.000000  400.000000   400.000000  400.000000   \n",
       "mean     7.496325  124.975000   68.657500     6.635000  264.840000   \n",
       "std      2.824115   15.334512   27.986037     6.650364  147.376436   \n",
       "min      0.000000   77.000000   21.000000     0.000000   10.000000   \n",
       "25%      5.390000  115.000000   42.750000     0.000000  139.000000   \n",
       "50%      7.490000  125.000000   69.000000     5.000000  272.000000   \n",
       "75%      9.320000  135.000000   91.000000    12.000000  398.500000   \n",
       "max     16.270000  175.000000  120.000000    29.000000  509.000000   \n",
       "\n",
       "            Price         Age   Education  \n",
       "count  400.000000  400.000000  400.000000  \n",
       "mean   115.795000   53.322500   13.900000  \n",
       "std     23.676664   16.200297    2.620528  \n",
       "min     24.000000   25.000000   10.000000  \n",
       "25%    100.000000   39.750000   12.000000  \n",
       "50%    117.000000   54.500000   14.000000  \n",
       "75%    131.000000   66.000000   16.000000  \n",
       "max    191.000000   80.000000   18.000000  "
      ]
     },
     "execution_count": 6,
     "metadata": {},
     "output_type": "execute_result"
    }
   ],
   "source": [
    "raw_data.describe()"
   ]
  },
  {
   "cell_type": "code",
   "execution_count": 7,
   "metadata": {
    "colab": {
     "base_uri": "https://localhost:8080/",
     "height": 300
    },
    "id": "VRm_V9rkx-1C",
    "outputId": "3d8652d7-e0fe-4d67-f5ae-7e252bbb5222"
   },
   "outputs": [
    {
     "data": {
      "text/html": [
       "<style type=\"text/css\">\n",
       "#T_0b08b_row0_col0, #T_0b08b_row1_col1, #T_0b08b_row2_col2, #T_0b08b_row3_col3, #T_0b08b_row4_col4, #T_0b08b_row5_col5, #T_0b08b_row6_col6, #T_0b08b_row7_col7 {\n",
       "  background-color: #b40426;\n",
       "  color: #f1f1f1;\n",
       "}\n",
       "#T_0b08b_row0_col1 {\n",
       "  background-color: #6a8bef;\n",
       "  color: #f1f1f1;\n",
       "}\n",
       "#T_0b08b_row0_col2 {\n",
       "  background-color: #81a4fb;\n",
       "  color: #f1f1f1;\n",
       "}\n",
       "#T_0b08b_row0_col3 {\n",
       "  background-color: #9dbdff;\n",
       "  color: #000000;\n",
       "}\n",
       "#T_0b08b_row0_col4 {\n",
       "  background-color: #6788ee;\n",
       "  color: #f1f1f1;\n",
       "}\n",
       "#T_0b08b_row0_col5, #T_0b08b_row0_col6, #T_0b08b_row1_col2, #T_0b08b_row4_col7, #T_0b08b_row5_col0, #T_0b08b_row6_col1, #T_0b08b_row7_col3, #T_0b08b_row7_col4 {\n",
       "  background-color: #3b4cc0;\n",
       "  color: #f1f1f1;\n",
       "}\n",
       "#T_0b08b_row0_col7 {\n",
       "  background-color: #4961d2;\n",
       "  color: #f1f1f1;\n",
       "}\n",
       "#T_0b08b_row1_col0 {\n",
       "  background-color: #b1cbfc;\n",
       "  color: #000000;\n",
       "}\n",
       "#T_0b08b_row1_col3, #T_0b08b_row1_col4 {\n",
       "  background-color: #3d50c3;\n",
       "  color: #f1f1f1;\n",
       "}\n",
       "#T_0b08b_row1_col5 {\n",
       "  background-color: #f7a889;\n",
       "  color: #000000;\n",
       "}\n",
       "#T_0b08b_row1_col6, #T_0b08b_row5_col7 {\n",
       "  background-color: #5b7ae5;\n",
       "  color: #f1f1f1;\n",
       "}\n",
       "#T_0b08b_row1_col7 {\n",
       "  background-color: #5f7fe8;\n",
       "  color: #f1f1f1;\n",
       "}\n",
       "#T_0b08b_row2_col0 {\n",
       "  background-color: #c4d5f3;\n",
       "  color: #000000;\n",
       "}\n",
       "#T_0b08b_row2_col1 {\n",
       "  background-color: #3f53c6;\n",
       "  color: #f1f1f1;\n",
       "}\n",
       "#T_0b08b_row2_col3, #T_0b08b_row2_col4 {\n",
       "  background-color: #5572df;\n",
       "  color: #f1f1f1;\n",
       "}\n",
       "#T_0b08b_row2_col5 {\n",
       "  background-color: #93b5fe;\n",
       "  color: #000000;\n",
       "}\n",
       "#T_0b08b_row2_col6, #T_0b08b_row3_col6 {\n",
       "  background-color: #7699f6;\n",
       "  color: #f1f1f1;\n",
       "}\n",
       "#T_0b08b_row2_col7 {\n",
       "  background-color: #485fd1;\n",
       "  color: #f1f1f1;\n",
       "}\n",
       "#T_0b08b_row3_col0 {\n",
       "  background-color: #dbdcde;\n",
       "  color: #000000;\n",
       "}\n",
       "#T_0b08b_row3_col1, #T_0b08b_row4_col2, #T_0b08b_row6_col2 {\n",
       "  background-color: #4f69d9;\n",
       "  color: #f1f1f1;\n",
       "}\n",
       "#T_0b08b_row3_col2 {\n",
       "  background-color: #6384eb;\n",
       "  color: #f1f1f1;\n",
       "}\n",
       "#T_0b08b_row3_col4, #T_0b08b_row3_col5 {\n",
       "  background-color: #abc8fd;\n",
       "  color: #000000;\n",
       "}\n",
       "#T_0b08b_row3_col7 {\n",
       "  background-color: #4e68d8;\n",
       "  color: #f1f1f1;\n",
       "}\n",
       "#T_0b08b_row4_col0 {\n",
       "  background-color: #adc9fd;\n",
       "  color: #000000;\n",
       "}\n",
       "#T_0b08b_row4_col1 {\n",
       "  background-color: #3c4ec2;\n",
       "  color: #f1f1f1;\n",
       "}\n",
       "#T_0b08b_row4_col3 {\n",
       "  background-color: #9bbcff;\n",
       "  color: #000000;\n",
       "}\n",
       "#T_0b08b_row4_col5 {\n",
       "  background-color: #9ebeff;\n",
       "  color: #000000;\n",
       "}\n",
       "#T_0b08b_row4_col6 {\n",
       "  background-color: #6b8df0;\n",
       "  color: #f1f1f1;\n",
       "}\n",
       "#T_0b08b_row5_col1 {\n",
       "  background-color: #f4c5ad;\n",
       "  color: #000000;\n",
       "}\n",
       "#T_0b08b_row5_col2, #T_0b08b_row7_col2 {\n",
       "  background-color: #4055c8;\n",
       "  color: #f1f1f1;\n",
       "}\n",
       "#T_0b08b_row5_col3 {\n",
       "  background-color: #516ddb;\n",
       "  color: #f1f1f1;\n",
       "}\n",
       "#T_0b08b_row5_col4 {\n",
       "  background-color: #5470de;\n",
       "  color: #f1f1f1;\n",
       "}\n",
       "#T_0b08b_row5_col6, #T_0b08b_row6_col7 {\n",
       "  background-color: #5a78e4;\n",
       "  color: #f1f1f1;\n",
       "}\n",
       "#T_0b08b_row6_col0 {\n",
       "  background-color: #688aef;\n",
       "  color: #f1f1f1;\n",
       "}\n",
       "#T_0b08b_row6_col3 {\n",
       "  background-color: #4358cb;\n",
       "  color: #f1f1f1;\n",
       "}\n",
       "#T_0b08b_row6_col4 {\n",
       "  background-color: #4b64d5;\n",
       "  color: #f1f1f1;\n",
       "}\n",
       "#T_0b08b_row6_col5 {\n",
       "  background-color: #88abfd;\n",
       "  color: #000000;\n",
       "}\n",
       "#T_0b08b_row7_col0 {\n",
       "  background-color: #94b6ff;\n",
       "  color: #000000;\n",
       "}\n",
       "#T_0b08b_row7_col1 {\n",
       "  background-color: #5e7de7;\n",
       "  color: #f1f1f1;\n",
       "}\n",
       "#T_0b08b_row7_col5 {\n",
       "  background-color: #a3c2fe;\n",
       "  color: #000000;\n",
       "}\n",
       "#T_0b08b_row7_col6 {\n",
       "  background-color: #799cf8;\n",
       "  color: #f1f1f1;\n",
       "}\n",
       "</style>\n",
       "<table id=\"T_0b08b\">\n",
       "  <thead>\n",
       "    <tr>\n",
       "      <th class=\"blank level0\" >&nbsp;</th>\n",
       "      <th id=\"T_0b08b_level0_col0\" class=\"col_heading level0 col0\" >Sales</th>\n",
       "      <th id=\"T_0b08b_level0_col1\" class=\"col_heading level0 col1\" >CompPrice</th>\n",
       "      <th id=\"T_0b08b_level0_col2\" class=\"col_heading level0 col2\" >Income</th>\n",
       "      <th id=\"T_0b08b_level0_col3\" class=\"col_heading level0 col3\" >Advertising</th>\n",
       "      <th id=\"T_0b08b_level0_col4\" class=\"col_heading level0 col4\" >Population</th>\n",
       "      <th id=\"T_0b08b_level0_col5\" class=\"col_heading level0 col5\" >Price</th>\n",
       "      <th id=\"T_0b08b_level0_col6\" class=\"col_heading level0 col6\" >Age</th>\n",
       "      <th id=\"T_0b08b_level0_col7\" class=\"col_heading level0 col7\" >Education</th>\n",
       "    </tr>\n",
       "  </thead>\n",
       "  <tbody>\n",
       "    <tr>\n",
       "      <th id=\"T_0b08b_level0_row0\" class=\"row_heading level0 row0\" >Sales</th>\n",
       "      <td id=\"T_0b08b_row0_col0\" class=\"data row0 col0\" >1.000000</td>\n",
       "      <td id=\"T_0b08b_row0_col1\" class=\"data row0 col1\" >0.064079</td>\n",
       "      <td id=\"T_0b08b_row0_col2\" class=\"data row0 col2\" >0.151951</td>\n",
       "      <td id=\"T_0b08b_row0_col3\" class=\"data row0 col3\" >0.269507</td>\n",
       "      <td id=\"T_0b08b_row0_col4\" class=\"data row0 col4\" >0.050471</td>\n",
       "      <td id=\"T_0b08b_row0_col5\" class=\"data row0 col5\" >-0.444951</td>\n",
       "      <td id=\"T_0b08b_row0_col6\" class=\"data row0 col6\" >-0.231815</td>\n",
       "      <td id=\"T_0b08b_row0_col7\" class=\"data row0 col7\" >-0.051955</td>\n",
       "    </tr>\n",
       "    <tr>\n",
       "      <th id=\"T_0b08b_level0_row1\" class=\"row_heading level0 row1\" >CompPrice</th>\n",
       "      <td id=\"T_0b08b_row1_col0\" class=\"data row1 col0\" >0.064079</td>\n",
       "      <td id=\"T_0b08b_row1_col1\" class=\"data row1 col1\" >1.000000</td>\n",
       "      <td id=\"T_0b08b_row1_col2\" class=\"data row1 col2\" >-0.080653</td>\n",
       "      <td id=\"T_0b08b_row1_col3\" class=\"data row1 col3\" >-0.024199</td>\n",
       "      <td id=\"T_0b08b_row1_col4\" class=\"data row1 col4\" >-0.094707</td>\n",
       "      <td id=\"T_0b08b_row1_col5\" class=\"data row1 col5\" >0.584848</td>\n",
       "      <td id=\"T_0b08b_row1_col6\" class=\"data row1 col6\" >-0.100239</td>\n",
       "      <td id=\"T_0b08b_row1_col7\" class=\"data row1 col7\" >0.025197</td>\n",
       "    </tr>\n",
       "    <tr>\n",
       "      <th id=\"T_0b08b_level0_row2\" class=\"row_heading level0 row2\" >Income</th>\n",
       "      <td id=\"T_0b08b_row2_col0\" class=\"data row2 col0\" >0.151951</td>\n",
       "      <td id=\"T_0b08b_row2_col1\" class=\"data row2 col1\" >-0.080653</td>\n",
       "      <td id=\"T_0b08b_row2_col2\" class=\"data row2 col2\" >1.000000</td>\n",
       "      <td id=\"T_0b08b_row2_col3\" class=\"data row2 col3\" >0.058995</td>\n",
       "      <td id=\"T_0b08b_row2_col4\" class=\"data row2 col4\" >-0.007877</td>\n",
       "      <td id=\"T_0b08b_row2_col5\" class=\"data row2 col5\" >-0.056698</td>\n",
       "      <td id=\"T_0b08b_row2_col6\" class=\"data row2 col6\" >-0.004670</td>\n",
       "      <td id=\"T_0b08b_row2_col7\" class=\"data row2 col7\" >-0.056855</td>\n",
       "    </tr>\n",
       "    <tr>\n",
       "      <th id=\"T_0b08b_level0_row3\" class=\"row_heading level0 row3\" >Advertising</th>\n",
       "      <td id=\"T_0b08b_row3_col0\" class=\"data row3 col0\" >0.269507</td>\n",
       "      <td id=\"T_0b08b_row3_col1\" class=\"data row3 col1\" >-0.024199</td>\n",
       "      <td id=\"T_0b08b_row3_col2\" class=\"data row3 col2\" >0.058995</td>\n",
       "      <td id=\"T_0b08b_row3_col3\" class=\"data row3 col3\" >1.000000</td>\n",
       "      <td id=\"T_0b08b_row3_col4\" class=\"data row3 col4\" >0.265652</td>\n",
       "      <td id=\"T_0b08b_row3_col5\" class=\"data row3 col5\" >0.044537</td>\n",
       "      <td id=\"T_0b08b_row3_col6\" class=\"data row3 col6\" >-0.004557</td>\n",
       "      <td id=\"T_0b08b_row3_col7\" class=\"data row3 col7\" >-0.033594</td>\n",
       "    </tr>\n",
       "    <tr>\n",
       "      <th id=\"T_0b08b_level0_row4\" class=\"row_heading level0 row4\" >Population</th>\n",
       "      <td id=\"T_0b08b_row4_col0\" class=\"data row4 col0\" >0.050471</td>\n",
       "      <td id=\"T_0b08b_row4_col1\" class=\"data row4 col1\" >-0.094707</td>\n",
       "      <td id=\"T_0b08b_row4_col2\" class=\"data row4 col2\" >-0.007877</td>\n",
       "      <td id=\"T_0b08b_row4_col3\" class=\"data row4 col3\" >0.265652</td>\n",
       "      <td id=\"T_0b08b_row4_col4\" class=\"data row4 col4\" >1.000000</td>\n",
       "      <td id=\"T_0b08b_row4_col5\" class=\"data row4 col5\" >-0.012144</td>\n",
       "      <td id=\"T_0b08b_row4_col6\" class=\"data row4 col6\" >-0.042663</td>\n",
       "      <td id=\"T_0b08b_row4_col7\" class=\"data row4 col7\" >-0.106378</td>\n",
       "    </tr>\n",
       "    <tr>\n",
       "      <th id=\"T_0b08b_level0_row5\" class=\"row_heading level0 row5\" >Price</th>\n",
       "      <td id=\"T_0b08b_row5_col0\" class=\"data row5 col0\" >-0.444951</td>\n",
       "      <td id=\"T_0b08b_row5_col1\" class=\"data row5 col1\" >0.584848</td>\n",
       "      <td id=\"T_0b08b_row5_col2\" class=\"data row5 col2\" >-0.056698</td>\n",
       "      <td id=\"T_0b08b_row5_col3\" class=\"data row5 col3\" >0.044537</td>\n",
       "      <td id=\"T_0b08b_row5_col4\" class=\"data row5 col4\" >-0.012144</td>\n",
       "      <td id=\"T_0b08b_row5_col5\" class=\"data row5 col5\" >1.000000</td>\n",
       "      <td id=\"T_0b08b_row5_col6\" class=\"data row5 col6\" >-0.102177</td>\n",
       "      <td id=\"T_0b08b_row5_col7\" class=\"data row5 col7\" >0.011747</td>\n",
       "    </tr>\n",
       "    <tr>\n",
       "      <th id=\"T_0b08b_level0_row6\" class=\"row_heading level0 row6\" >Age</th>\n",
       "      <td id=\"T_0b08b_row6_col0\" class=\"data row6 col0\" >-0.231815</td>\n",
       "      <td id=\"T_0b08b_row6_col1\" class=\"data row6 col1\" >-0.100239</td>\n",
       "      <td id=\"T_0b08b_row6_col2\" class=\"data row6 col2\" >-0.004670</td>\n",
       "      <td id=\"T_0b08b_row6_col3\" class=\"data row6 col3\" >-0.004557</td>\n",
       "      <td id=\"T_0b08b_row6_col4\" class=\"data row6 col4\" >-0.042663</td>\n",
       "      <td id=\"T_0b08b_row6_col5\" class=\"data row6 col5\" >-0.102177</td>\n",
       "      <td id=\"T_0b08b_row6_col6\" class=\"data row6 col6\" >1.000000</td>\n",
       "      <td id=\"T_0b08b_row6_col7\" class=\"data row6 col7\" >0.006488</td>\n",
       "    </tr>\n",
       "    <tr>\n",
       "      <th id=\"T_0b08b_level0_row7\" class=\"row_heading level0 row7\" >Education</th>\n",
       "      <td id=\"T_0b08b_row7_col0\" class=\"data row7 col0\" >-0.051955</td>\n",
       "      <td id=\"T_0b08b_row7_col1\" class=\"data row7 col1\" >0.025197</td>\n",
       "      <td id=\"T_0b08b_row7_col2\" class=\"data row7 col2\" >-0.056855</td>\n",
       "      <td id=\"T_0b08b_row7_col3\" class=\"data row7 col3\" >-0.033594</td>\n",
       "      <td id=\"T_0b08b_row7_col4\" class=\"data row7 col4\" >-0.106378</td>\n",
       "      <td id=\"T_0b08b_row7_col5\" class=\"data row7 col5\" >0.011747</td>\n",
       "      <td id=\"T_0b08b_row7_col6\" class=\"data row7 col6\" >0.006488</td>\n",
       "      <td id=\"T_0b08b_row7_col7\" class=\"data row7 col7\" >1.000000</td>\n",
       "    </tr>\n",
       "  </tbody>\n",
       "</table>\n"
      ],
      "text/plain": [
       "<pandas.io.formats.style.Styler at 0x1e1e07263d0>"
      ]
     },
     "execution_count": 7,
     "metadata": {},
     "output_type": "execute_result"
    }
   ],
   "source": [
    "raw_data.corr().style.background_gradient(cmap='coolwarm')"
   ]
  },
  {
   "cell_type": "code",
   "execution_count": 8,
   "metadata": {
    "colab": {
     "base_uri": "https://localhost:8080/",
     "height": 610
    },
    "id": "hTuQNuPCrNZx",
    "outputId": "f961f36c-289c-45a0-ab9b-15b4a245411a"
   },
   "outputs": [
    {
     "data": {
      "text/plain": [
       "<AxesSubplot:>"
      ]
     },
     "execution_count": 8,
     "metadata": {},
     "output_type": "execute_result"
    },
    {
     "data": {
      "image/png": "[encoded data removed]",
      "text/plain": [
       "<Figure size 2000x1000 with 1 Axes>"
      ]
     },
     "metadata": {},
     "output_type": "display_data"
    }
   ],
   "source": [
    "plt.figure(figsize=(20,10))\n",
    "sns.boxplot(data=raw_data, orient=\"h\")"
   ]
  },
  {
   "cell_type": "code",
   "execution_count": 9,
   "metadata": {
    "colab": {
     "base_uri": "https://localhost:8080/",
     "height": 321
    },
    "id": "HDWiMUh2yKvo",
    "outputId": "db18366a-6f07-4d13-beca-f70f230f9eeb"
   },
   "outputs": [
    {
     "data": {
      "text/plain": [
       "<AxesSubplot:xlabel='Sales', ylabel='Count'>"
      ]
     },
     "execution_count": 9,
     "metadata": {},
     "output_type": "execute_result"
    },
    {
     "data": {
      "image/png": "[encoded data removed]",
      "text/plain": [
       "<Figure size 2500x500 with 1 Axes>"
      ]
     },
     "metadata": {},
     "output_type": "display_data"
    }
   ],
   "source": [
    "plt.figure(figsize=(25,5))\n",
    "sns.histplot(data=raw_data, x='Sales', bins=80)"
   ]
  },
  {
   "cell_type": "code",
   "execution_count": 10,
   "metadata": {
    "id": "7mV3Rlw10kpK"
   },
   "outputs": [],
   "source": [
    "x = raw_data['Sales'].max()"
   ]
  },
  {
   "cell_type": "code",
   "execution_count": 11,
   "metadata": {
    "colab": {
     "base_uri": "https://localhost:8080/"
    },
    "id": "zO6R3qNP74Wc",
    "outputId": "6b00b896-9324-4623-9d96-9e4da62e7bb1"
   },
   "outputs": [
    {
     "name": "stdout",
     "output_type": "stream",
     "text": [
      "16.27 8.135 5.423333333333333\n"
     ]
    }
   ],
   "source": [
    "print(x, x/2, x/3)"
   ]
  },
  {
   "cell_type": "code",
   "execution_count": 12,
   "metadata": {
    "colab": {
     "base_uri": "https://localhost:8080/",
     "height": 206
    },
    "id": "In-F4n_98QYS",
    "outputId": "befac3e5-da25-4dce-b1b8-7a5f38a74cd5"
   },
   "outputs": [
    {
     "data": {
      "text/html": [
       "<div>\n",
       "<style scoped>\n",
       "    .dataframe tbody tr th:only-of-type {\n",
       "        vertical-align: middle;\n",
       "    }\n",
       "\n",
       "    .dataframe tbody tr th {\n",
       "        vertical-align: top;\n",
       "    }\n",
       "\n",
       "    .dataframe thead th {\n",
       "        text-align: right;\n",
       "    }\n",
       "</style>\n",
       "<table border=\"1\" class=\"dataframe\">\n",
       "  <thead>\n",
       "    <tr style=\"text-align: right;\">\n",
       "      <th></th>\n",
       "      <th>Sales</th>\n",
       "      <th>CompPrice</th>\n",
       "      <th>Income</th>\n",
       "      <th>Advertising</th>\n",
       "      <th>Population</th>\n",
       "      <th>Price</th>\n",
       "      <th>ShelveLoc</th>\n",
       "      <th>Age</th>\n",
       "      <th>Education</th>\n",
       "      <th>Urban</th>\n",
       "      <th>US</th>\n",
       "      <th>Sales_cat</th>\n",
       "    </tr>\n",
       "  </thead>\n",
       "  <tbody>\n",
       "    <tr>\n",
       "      <th>0</th>\n",
       "      <td>9.50</td>\n",
       "      <td>138</td>\n",
       "      <td>73</td>\n",
       "      <td>11</td>\n",
       "      <td>276</td>\n",
       "      <td>120</td>\n",
       "      <td>Bad</td>\n",
       "      <td>42</td>\n",
       "      <td>17</td>\n",
       "      <td>Yes</td>\n",
       "      <td>Yes</td>\n",
       "      <td>High</td>\n",
       "    </tr>\n",
       "    <tr>\n",
       "      <th>1</th>\n",
       "      <td>11.22</td>\n",
       "      <td>111</td>\n",
       "      <td>48</td>\n",
       "      <td>16</td>\n",
       "      <td>260</td>\n",
       "      <td>83</td>\n",
       "      <td>Good</td>\n",
       "      <td>65</td>\n",
       "      <td>10</td>\n",
       "      <td>Yes</td>\n",
       "      <td>Yes</td>\n",
       "      <td>High</td>\n",
       "    </tr>\n",
       "    <tr>\n",
       "      <th>2</th>\n",
       "      <td>10.06</td>\n",
       "      <td>113</td>\n",
       "      <td>35</td>\n",
       "      <td>10</td>\n",
       "      <td>269</td>\n",
       "      <td>80</td>\n",
       "      <td>Medium</td>\n",
       "      <td>59</td>\n",
       "      <td>12</td>\n",
       "      <td>Yes</td>\n",
       "      <td>Yes</td>\n",
       "      <td>High</td>\n",
       "    </tr>\n",
       "    <tr>\n",
       "      <th>3</th>\n",
       "      <td>7.40</td>\n",
       "      <td>117</td>\n",
       "      <td>100</td>\n",
       "      <td>4</td>\n",
       "      <td>466</td>\n",
       "      <td>97</td>\n",
       "      <td>Medium</td>\n",
       "      <td>55</td>\n",
       "      <td>14</td>\n",
       "      <td>Yes</td>\n",
       "      <td>Yes</td>\n",
       "      <td>Medium</td>\n",
       "    </tr>\n",
       "    <tr>\n",
       "      <th>4</th>\n",
       "      <td>4.15</td>\n",
       "      <td>141</td>\n",
       "      <td>64</td>\n",
       "      <td>3</td>\n",
       "      <td>340</td>\n",
       "      <td>128</td>\n",
       "      <td>Bad</td>\n",
       "      <td>38</td>\n",
       "      <td>13</td>\n",
       "      <td>Yes</td>\n",
       "      <td>No</td>\n",
       "      <td>Low</td>\n",
       "    </tr>\n",
       "  </tbody>\n",
       "</table>\n",
       "</div>"
      ],
      "text/plain": [
       "   Sales  CompPrice  Income  Advertising  Population  Price ShelveLoc  Age  \\\n",
       "0   9.50        138      73           11         276    120       Bad   42   \n",
       "1  11.22        111      48           16         260     83      Good   65   \n",
       "2  10.06        113      35           10         269     80    Medium   59   \n",
       "3   7.40        117     100            4         466     97    Medium   55   \n",
       "4   4.15        141      64            3         340    128       Bad   38   \n",
       "\n",
       "   Education Urban   US Sales_cat  \n",
       "0         17   Yes  Yes      High  \n",
       "1         10   Yes  Yes      High  \n",
       "2         12   Yes  Yes      High  \n",
       "3         14   Yes  Yes    Medium  \n",
       "4         13   Yes   No       Low  "
      ]
     },
     "execution_count": 12,
     "metadata": {},
     "output_type": "execute_result"
    }
   ],
   "source": [
    "data=raw_data.copy()\n",
    "data['Sales_cat'] = pd.cut(x = data['Sales'], bins = [0,5.424,8.2,16.3], labels=['Low','Medium','High'], right = False)\n",
    "data.head()"
   ]
  },
  {
   "cell_type": "code",
   "execution_count": 13,
   "metadata": {
    "colab": {
     "base_uri": "https://localhost:8080/"
    },
    "id": "fYoNqnWz9hb4",
    "outputId": "58630c97-8c31-4fbb-c301-4b83aefe3f7f"
   },
   "outputs": [
    {
     "name": "stdout",
     "output_type": "stream",
     "text": [
      "High      156\n",
      "Medium    142\n",
      "Low       102\n",
      "Name: Sales_cat, dtype: int64\n",
      "Yes    282\n",
      "No     118\n",
      "Name: Urban, dtype: int64\n",
      "Yes    258\n",
      "No     142\n",
      "Name: US, dtype: int64\n",
      "Medium    219\n",
      "Bad        96\n",
      "Good       85\n",
      "Name: ShelveLoc, dtype: int64\n"
     ]
    }
   ],
   "source": [
    "print(data['Sales_cat'].value_counts())\n",
    "print(data['Urban'].value_counts())\n",
    "print(data['US'].value_counts())\n",
    "print(data['ShelveLoc'].value_counts())"
   ]
  },
  {
   "cell_type": "code",
   "execution_count": 14,
   "metadata": {
    "id": "FcAY_IQF-Inw"
   },
   "outputs": [],
   "source": [
    "#sns.pairplot(data=data, hue='Sales_cat')"
   ]
  },
  {
   "cell_type": "code",
   "execution_count": 15,
   "metadata": {
    "colab": {
     "base_uri": "https://localhost:8080/",
     "height": 206
    },
    "id": "OCoX-wCtuLfA",
    "outputId": "250c5dee-4d7b-4d7d-f342-691369406515"
   },
   "outputs": [
    {
     "data": {
      "text/html": [
       "<div>\n",
       "<style scoped>\n",
       "    .dataframe tbody tr th:only-of-type {\n",
       "        vertical-align: middle;\n",
       "    }\n",
       "\n",
       "    .dataframe tbody tr th {\n",
       "        vertical-align: top;\n",
       "    }\n",
       "\n",
       "    .dataframe thead th {\n",
       "        text-align: right;\n",
       "    }\n",
       "</style>\n",
       "<table border=\"1\" class=\"dataframe\">\n",
       "  <thead>\n",
       "    <tr style=\"text-align: right;\">\n",
       "      <th></th>\n",
       "      <th>CompPrice</th>\n",
       "      <th>Income</th>\n",
       "      <th>Advertising</th>\n",
       "      <th>Population</th>\n",
       "      <th>Price</th>\n",
       "      <th>Age</th>\n",
       "      <th>Education</th>\n",
       "      <th>ShelveLoc_Bad</th>\n",
       "      <th>ShelveLoc_Good</th>\n",
       "      <th>ShelveLoc_Medium</th>\n",
       "      <th>Urban_No</th>\n",
       "      <th>Urban_Yes</th>\n",
       "      <th>US_No</th>\n",
       "      <th>US_Yes</th>\n",
       "    </tr>\n",
       "  </thead>\n",
       "  <tbody>\n",
       "    <tr>\n",
       "      <th>0</th>\n",
       "      <td>138</td>\n",
       "      <td>73</td>\n",
       "      <td>11</td>\n",
       "      <td>276</td>\n",
       "      <td>120</td>\n",
       "      <td>42</td>\n",
       "      <td>17</td>\n",
       "      <td>1</td>\n",
       "      <td>0</td>\n",
       "      <td>0</td>\n",
       "      <td>0</td>\n",
       "      <td>1</td>\n",
       "      <td>0</td>\n",
       "      <td>1</td>\n",
       "    </tr>\n",
       "    <tr>\n",
       "      <th>1</th>\n",
       "      <td>111</td>\n",
       "      <td>48</td>\n",
       "      <td>16</td>\n",
       "      <td>260</td>\n",
       "      <td>83</td>\n",
       "      <td>65</td>\n",
       "      <td>10</td>\n",
       "      <td>0</td>\n",
       "      <td>1</td>\n",
       "      <td>0</td>\n",
       "      <td>0</td>\n",
       "      <td>1</td>\n",
       "      <td>0</td>\n",
       "      <td>1</td>\n",
       "    </tr>\n",
       "    <tr>\n",
       "      <th>2</th>\n",
       "      <td>113</td>\n",
       "      <td>35</td>\n",
       "      <td>10</td>\n",
       "      <td>269</td>\n",
       "      <td>80</td>\n",
       "      <td>59</td>\n",
       "      <td>12</td>\n",
       "      <td>0</td>\n",
       "      <td>0</td>\n",
       "      <td>1</td>\n",
       "      <td>0</td>\n",
       "      <td>1</td>\n",
       "      <td>0</td>\n",
       "      <td>1</td>\n",
       "    </tr>\n",
       "    <tr>\n",
       "      <th>3</th>\n",
       "      <td>117</td>\n",
       "      <td>100</td>\n",
       "      <td>4</td>\n",
       "      <td>466</td>\n",
       "      <td>97</td>\n",
       "      <td>55</td>\n",
       "      <td>14</td>\n",
       "      <td>0</td>\n",
       "      <td>0</td>\n",
       "      <td>1</td>\n",
       "      <td>0</td>\n",
       "      <td>1</td>\n",
       "      <td>0</td>\n",
       "      <td>1</td>\n",
       "    </tr>\n",
       "    <tr>\n",
       "      <th>4</th>\n",
       "      <td>141</td>\n",
       "      <td>64</td>\n",
       "      <td>3</td>\n",
       "      <td>340</td>\n",
       "      <td>128</td>\n",
       "      <td>38</td>\n",
       "      <td>13</td>\n",
       "      <td>1</td>\n",
       "      <td>0</td>\n",
       "      <td>0</td>\n",
       "      <td>0</td>\n",
       "      <td>1</td>\n",
       "      <td>1</td>\n",
       "      <td>0</td>\n",
       "    </tr>\n",
       "  </tbody>\n",
       "</table>\n",
       "</div>"
      ],
      "text/plain": [
       "   CompPrice  Income  Advertising  Population  Price  Age  Education  \\\n",
       "0        138      73           11         276    120   42         17   \n",
       "1        111      48           16         260     83   65         10   \n",
       "2        113      35           10         269     80   59         12   \n",
       "3        117     100            4         466     97   55         14   \n",
       "4        141      64            3         340    128   38         13   \n",
       "\n",
       "   ShelveLoc_Bad  ShelveLoc_Good  ShelveLoc_Medium  Urban_No  Urban_Yes  \\\n",
       "0              1               0                 0         0          1   \n",
       "1              0               1                 0         0          1   \n",
       "2              0               0                 1         0          1   \n",
       "3              0               0                 1         0          1   \n",
       "4              1               0                 0         0          1   \n",
       "\n",
       "   US_No  US_Yes  \n",
       "0      0       1  \n",
       "1      0       1  \n",
       "2      0       1  \n",
       "3      0       1  \n",
       "4      1       0  "
      ]
     },
     "execution_count": 15,
     "metadata": {},
     "output_type": "execute_result"
    }
   ],
   "source": [
    "df = data.drop('Sales',axis=1)\n",
    "df = pd.get_dummies(df.iloc[:,:-1])\n",
    "df.head()"
   ]
  },
  {
   "cell_type": "code",
   "execution_count": 16,
   "metadata": {
    "id": "eOH6UVnZLtSn"
   },
   "outputs": [],
   "source": [
    "df['Sales_cat'] = data['Sales_cat']"
   ]
  },
  {
   "cell_type": "code",
   "execution_count": 17,
   "metadata": {
    "colab": {
     "base_uri": "https://localhost:8080/",
     "height": 206
    },
    "id": "Y3lOmGW592Bf",
    "outputId": "7668afbb-5b9a-41d3-8b8b-e90446ecd9f8"
   },
   "outputs": [
    {
     "data": {
      "text/html": [
       "<div>\n",
       "<style scoped>\n",
       "    .dataframe tbody tr th:only-of-type {\n",
       "        vertical-align: middle;\n",
       "    }\n",
       "\n",
       "    .dataframe tbody tr th {\n",
       "        vertical-align: top;\n",
       "    }\n",
       "\n",
       "    .dataframe thead th {\n",
       "        text-align: right;\n",
       "    }\n",
       "</style>\n",
       "<table border=\"1\" class=\"dataframe\">\n",
       "  <thead>\n",
       "    <tr style=\"text-align: right;\">\n",
       "      <th></th>\n",
       "      <th>CompPrice</th>\n",
       "      <th>Income</th>\n",
       "      <th>Advertising</th>\n",
       "      <th>Population</th>\n",
       "      <th>Price</th>\n",
       "      <th>Age</th>\n",
       "      <th>Education</th>\n",
       "      <th>ShelveLoc_Bad</th>\n",
       "      <th>ShelveLoc_Good</th>\n",
       "      <th>ShelveLoc_Medium</th>\n",
       "      <th>Urban_No</th>\n",
       "      <th>Urban_Yes</th>\n",
       "      <th>US_No</th>\n",
       "      <th>US_Yes</th>\n",
       "      <th>Sales_cat</th>\n",
       "    </tr>\n",
       "  </thead>\n",
       "  <tbody>\n",
       "    <tr>\n",
       "      <th>0</th>\n",
       "      <td>138</td>\n",
       "      <td>73</td>\n",
       "      <td>11</td>\n",
       "      <td>276</td>\n",
       "      <td>120</td>\n",
       "      <td>42</td>\n",
       "      <td>17</td>\n",
       "      <td>1</td>\n",
       "      <td>0</td>\n",
       "      <td>0</td>\n",
       "      <td>0</td>\n",
       "      <td>1</td>\n",
       "      <td>0</td>\n",
       "      <td>1</td>\n",
       "      <td>0</td>\n",
       "    </tr>\n",
       "    <tr>\n",
       "      <th>1</th>\n",
       "      <td>111</td>\n",
       "      <td>48</td>\n",
       "      <td>16</td>\n",
       "      <td>260</td>\n",
       "      <td>83</td>\n",
       "      <td>65</td>\n",
       "      <td>10</td>\n",
       "      <td>0</td>\n",
       "      <td>1</td>\n",
       "      <td>0</td>\n",
       "      <td>0</td>\n",
       "      <td>1</td>\n",
       "      <td>0</td>\n",
       "      <td>1</td>\n",
       "      <td>0</td>\n",
       "    </tr>\n",
       "    <tr>\n",
       "      <th>2</th>\n",
       "      <td>113</td>\n",
       "      <td>35</td>\n",
       "      <td>10</td>\n",
       "      <td>269</td>\n",
       "      <td>80</td>\n",
       "      <td>59</td>\n",
       "      <td>12</td>\n",
       "      <td>0</td>\n",
       "      <td>0</td>\n",
       "      <td>1</td>\n",
       "      <td>0</td>\n",
       "      <td>1</td>\n",
       "      <td>0</td>\n",
       "      <td>1</td>\n",
       "      <td>0</td>\n",
       "    </tr>\n",
       "    <tr>\n",
       "      <th>3</th>\n",
       "      <td>117</td>\n",
       "      <td>100</td>\n",
       "      <td>4</td>\n",
       "      <td>466</td>\n",
       "      <td>97</td>\n",
       "      <td>55</td>\n",
       "      <td>14</td>\n",
       "      <td>0</td>\n",
       "      <td>0</td>\n",
       "      <td>1</td>\n",
       "      <td>0</td>\n",
       "      <td>1</td>\n",
       "      <td>0</td>\n",
       "      <td>1</td>\n",
       "      <td>2</td>\n",
       "    </tr>\n",
       "    <tr>\n",
       "      <th>4</th>\n",
       "      <td>141</td>\n",
       "      <td>64</td>\n",
       "      <td>3</td>\n",
       "      <td>340</td>\n",
       "      <td>128</td>\n",
       "      <td>38</td>\n",
       "      <td>13</td>\n",
       "      <td>1</td>\n",
       "      <td>0</td>\n",
       "      <td>0</td>\n",
       "      <td>0</td>\n",
       "      <td>1</td>\n",
       "      <td>1</td>\n",
       "      <td>0</td>\n",
       "      <td>1</td>\n",
       "    </tr>\n",
       "  </tbody>\n",
       "</table>\n",
       "</div>"
      ],
      "text/plain": [
       "   CompPrice  Income  Advertising  Population  Price  Age  Education  \\\n",
       "0        138      73           11         276    120   42         17   \n",
       "1        111      48           16         260     83   65         10   \n",
       "2        113      35           10         269     80   59         12   \n",
       "3        117     100            4         466     97   55         14   \n",
       "4        141      64            3         340    128   38         13   \n",
       "\n",
       "   ShelveLoc_Bad  ShelveLoc_Good  ShelveLoc_Medium  Urban_No  Urban_Yes  \\\n",
       "0              1               0                 0         0          1   \n",
       "1              0               1                 0         0          1   \n",
       "2              0               0                 1         0          1   \n",
       "3              0               0                 1         0          1   \n",
       "4              1               0                 0         0          1   \n",
       "\n",
       "   US_No  US_Yes  Sales_cat  \n",
       "0      0       1          0  \n",
       "1      0       1          0  \n",
       "2      0       1          0  \n",
       "3      0       1          2  \n",
       "4      1       0          1  "
      ]
     },
     "execution_count": 17,
     "metadata": {},
     "output_type": "execute_result"
    }
   ],
   "source": [
    "from sklearn import preprocessing\n",
    "from sklearn.preprocessing import LabelEncoder\n",
    "le = preprocessing.LabelEncoder()\n",
    "le.fit(df[\"Sales_cat\"])\n",
    "df['Sales_cat'] = le.transform(df[\"Sales_cat\"])\n",
    "#df['Sales_cat'] = le.fit_transform(df[\"Sales_cat\"])\n",
    "df.head()"
   ]
  },
  {
   "cell_type": "code",
   "execution_count": 18,
   "metadata": {
    "id": "FvcDDS9CaqrL"
   },
   "outputs": [],
   "source": [
    "from sklearn.ensemble import RandomForestClassifier\n",
    "from sklearn import metrics\n",
    "from sklearn.metrics import confusion_matrix, classification_report\n",
    "from sklearn.model_selection import GridSearchCV, KFold, StratifiedKFold, cross_val_score, train_test_split, RandomizedSearchCV\n",
    "\n",
    "import warnings\n",
    "warnings.filterwarnings('ignore')"
   ]
  },
  {
   "cell_type": "code",
   "execution_count": 19,
   "metadata": {
    "id": "pWTNgwf-vyfi"
   },
   "outputs": [],
   "source": [
    "X = df.iloc[:,:-1]\n",
    "Y = df.iloc[:,-1:]"
   ]
  },
  {
   "cell_type": "code",
   "execution_count": 20,
   "metadata": {
    "colab": {
     "base_uri": "https://localhost:8080/"
    },
    "id": "EChshKeCwwKG",
    "outputId": "d1118c75-1198-4a23-9ea5-2a76bd091e2f"
   },
   "outputs": [
    {
     "data": {
      "text/plain": [
       "((400, 15), (400, 14), (400, 1))"
      ]
     },
     "execution_count": 20,
     "metadata": {},
     "output_type": "execute_result"
    }
   ],
   "source": [
    "df.shape, X.shape, Y.shape"
   ]
  },
  {
   "cell_type": "code",
   "execution_count": 21,
   "metadata": {
    "id": "ON62I1Kqww8P"
   },
   "outputs": [],
   "source": [
    "X_train, X_test, Y_train, Y_test = train_test_split(X, Y, test_size=0.3, random_state=7, stratify=Y)"
   ]
  },
  {
   "cell_type": "code",
   "execution_count": 22,
   "metadata": {
    "id": "pPvzj6QGMV54"
   },
   "outputs": [],
   "source": [
    "rf_clf_1=RandomForestClassifier(n_estimators=100)\n",
    "rf_clf_1.fit(X_train,Y_train)\n",
    "Y_pred_1=rf_clf_1.predict(X_test)\n",
    "Y_pred_train_1 = rf_clf_1.predict(X_train)"
   ]
  },
  {
   "cell_type": "code",
   "execution_count": 23,
   "metadata": {
    "colab": {
     "base_uri": "https://localhost:8080/"
    },
    "id": "1VMTMnC6ZX7r",
    "outputId": "bfa4048e-1ddf-4bcf-ac0e-8347ec9ac9ba"
   },
   "outputs": [
    {
     "name": "stdout",
     "output_type": "stream",
     "text": [
      "Accuracy_train: 1.0\n",
      "Accuracy_test: 0.6583333333333333\n",
      "[[40  2  5]\n",
      " [ 0 16 14]\n",
      " [15  5 23]]\n",
      "              precision    recall  f1-score   support\n",
      "\n",
      "           0       0.73      0.85      0.78        47\n",
      "           1       0.70      0.53      0.60        30\n",
      "           2       0.55      0.53      0.54        43\n",
      "\n",
      "    accuracy                           0.66       120\n",
      "   macro avg       0.66      0.64      0.64       120\n",
      "weighted avg       0.65      0.66      0.65       120\n",
      "\n"
     ]
    }
   ],
   "source": [
    "print(\"Accuracy_train:\",metrics.accuracy_score(Y_train, Y_pred_train_1))\n",
    "print(\"Accuracy_test:\",metrics.accuracy_score(Y_test, Y_pred_1))\n",
    "print(confusion_matrix(Y_test, Y_pred_1))\n",
    "print(classification_report(Y_test, Y_pred_1))"
   ]
  },
  {
   "cell_type": "code",
   "execution_count": 24,
   "metadata": {
    "colab": {
     "base_uri": "https://localhost:8080/"
    },
    "id": "xp7Y3hZKNexe",
    "outputId": "fbdb02b4-ce22-4ef8-d227-1a1bd4eb6c3f"
   },
   "outputs": [
    {
     "data": {
      "text/plain": [
       "Price               0.195313\n",
       "Age                 0.132056\n",
       "CompPrice           0.108529\n",
       "Income              0.105463\n",
       "Population          0.098801\n",
       "Advertising         0.096176\n",
       "Education           0.074985\n",
       "ShelveLoc_Good      0.056733\n",
       "ShelveLoc_Bad       0.041240\n",
       "ShelveLoc_Medium    0.025496\n",
       "US_Yes              0.021351\n",
       "Urban_No            0.015238\n",
       "Urban_Yes           0.014383\n",
       "US_No               0.014235\n",
       "dtype: float64"
      ]
     },
     "execution_count": 24,
     "metadata": {},
     "output_type": "execute_result"
    }
   ],
   "source": [
    "feature_imp_1 = pd.Series(rf_clf_1.feature_importances_,index=X.columns).sort_values(ascending=False)\n",
    "feature_imp_1"
   ]
  },
  {
   "cell_type": "code",
   "execution_count": 25,
   "metadata": {
    "colab": {
     "base_uri": "https://localhost:8080/"
    },
    "id": "T8WQErQSODWH",
    "outputId": "10259c01-b229-429c-8f96-519b626a39d7"
   },
   "outputs": [
    {
     "name": "stdout",
     "output_type": "stream",
     "text": [
      "Accuracy_train: 1.0\n",
      "Accuracy_test: 0.6083333333333333\n",
      "[[38  4  5]\n",
      " [ 0 18 12]\n",
      " [14 12 17]]\n",
      "              precision    recall  f1-score   support\n",
      "\n",
      "           0       0.73      0.81      0.77        47\n",
      "           1       0.53      0.60      0.56        30\n",
      "           2       0.50      0.40      0.44        43\n",
      "\n",
      "    accuracy                           0.61       120\n",
      "   macro avg       0.59      0.60      0.59       120\n",
      "weighted avg       0.60      0.61      0.60       120\n",
      "\n"
     ]
    }
   ],
   "source": [
    "rf_clf_2=RandomForestClassifier(bootstrap=True, class_weight=None, criterion='gini',\n",
    "            max_depth=None, max_features='auto', max_leaf_nodes=None,\n",
    "            min_impurity_decrease=0.0,\n",
    "            min_samples_leaf=1, min_samples_split=2,\n",
    "            min_weight_fraction_leaf=0.0, n_estimators=100, n_jobs=1,\n",
    "            oob_score=False, random_state=None, verbose=0,\n",
    "            warm_start=False)\n",
    "rf_clf_2.fit(X_train,Y_train)\n",
    "Y_pred_2=rf_clf_2.predict(X_test)\n",
    "Y_pred_train_2 = rf_clf_2.predict(X_train)\n",
    "\n",
    "print(\"Accuracy_train:\",metrics.accuracy_score(Y_train, Y_pred_train_2))\n",
    "print(\"Accuracy_test:\",metrics.accuracy_score(Y_test, Y_pred_2))\n",
    "print(confusion_matrix(Y_test, Y_pred_2))\n",
    "print(classification_report(Y_test, Y_pred_2))"
   ]
  },
  {
   "cell_type": "code",
   "execution_count": 26,
   "metadata": {
    "colab": {
     "base_uri": "https://localhost:8080/"
    },
    "id": "VjE9tR4LpHGH",
    "outputId": "366a9f54-4011-47a5-f3f8-4e8b88c8cb92"
   },
   "outputs": [
    {
     "name": "stdout",
     "output_type": "stream",
     "text": [
      "Before Counter({'Sales_cat': 1})\n",
      "After Counter({'Sales_cat': 1})\n"
     ]
    }
   ],
   "source": [
    "from collections import Counter\n",
    "from imblearn.over_sampling import SMOTE\n",
    "counter = Counter(Y_train)\n",
    "print('Before',counter)\n",
    "\n",
    "smt = SMOTE(random_state=7)\n",
    "X_train_smt, Y_train_smt = smt.fit_resample(X_train, Y_train)\n",
    "\n",
    "counter = Counter(Y_train_smt)\n",
    "print('After',counter)"
   ]
  },
  {
   "cell_type": "code",
   "execution_count": 27,
   "metadata": {
    "colab": {
     "base_uri": "https://localhost:8080/"
    },
    "id": "dkB_-0KrqiSv",
    "outputId": "94467311-61c6-4b32-82fa-2432521a19e4"
   },
   "outputs": [
    {
     "data": {
      "text/plain": [
       "((280, 14), (280, 1), (327, 14), (327, 1))"
      ]
     },
     "execution_count": 27,
     "metadata": {},
     "output_type": "execute_result"
    }
   ],
   "source": [
    "X_train.shape, Y_train.shape, X_train_smt.shape, Y_train_smt.shape"
   ]
  },
  {
   "cell_type": "code",
   "execution_count": 28,
   "metadata": {
    "colab": {
     "base_uri": "https://localhost:8080/"
    },
    "id": "HJf_SmaxrQDN",
    "outputId": "95fb864d-e248-4896-afbe-1d88894bd7ac"
   },
   "outputs": [
    {
     "data": {
      "text/plain": [
       "(Sales_cat\n",
       " 0            109\n",
       " 2             99\n",
       " 1             72\n",
       " dtype: int64,\n",
       " Sales_cat\n",
       " 0            109\n",
       " 1            109\n",
       " 2            109\n",
       " dtype: int64)"
      ]
     },
     "execution_count": 28,
     "metadata": {},
     "output_type": "execute_result"
    }
   ],
   "source": [
    "Y_train.value_counts(), Y_train_smt.value_counts()"
   ]
  },
  {
   "cell_type": "code",
   "execution_count": 29,
   "metadata": {
    "colab": {
     "base_uri": "https://localhost:8080/"
    },
    "id": "IbdFCGVkSrxL",
    "outputId": "ae57fdd8-6a58-45ff-e0ea-f09be83dfd8c"
   },
   "outputs": [
    {
     "name": "stdout",
     "output_type": "stream",
     "text": [
      "Accuracy_train: 1.0\n",
      "Accuracy_test: 0.6166666666666667\n",
      "[[38  4  5]\n",
      " [ 0 19 11]\n",
      " [14 12 17]]\n",
      "              precision    recall  f1-score   support\n",
      "\n",
      "           0       0.73      0.81      0.77        47\n",
      "           1       0.54      0.63      0.58        30\n",
      "           2       0.52      0.40      0.45        43\n",
      "\n",
      "    accuracy                           0.62       120\n",
      "   macro avg       0.60      0.61      0.60       120\n",
      "weighted avg       0.61      0.62      0.61       120\n",
      "\n"
     ]
    }
   ],
   "source": [
    "rf_clf_3=RandomForestClassifier(n_estimators=400)\n",
    "rf_clf_3.fit(X_train_smt,Y_train_smt)\n",
    "Y_pred_3=rf_clf_3.predict(X_test)\n",
    "Y_pred_train_3 = rf_clf_3.predict(X_train_smt)\n",
    "\n",
    "print(\"Accuracy_train:\",metrics.accuracy_score(Y_train_smt, Y_pred_train_3))\n",
    "print(\"Accuracy_test:\",metrics.accuracy_score(Y_test, Y_pred_3))\n",
    "print(confusion_matrix(Y_test, Y_pred_3))\n",
    "print(classification_report(Y_test, Y_pred_3))"
   ]
  },
  {
   "cell_type": "code",
   "execution_count": 32,
   "metadata": {
    "id": "072jK8VLV9qL"
   },
   "outputs": [],
   "source": [
    "grid = { \n",
    "    'n_estimators': [100,200,300,400,500],\n",
    "    'max_features': ['sqrt', 'log2'],\n",
    "    'max_depth' : [4,5,6,7,8],\n",
    "    'criterion' :['gini', 'entropy'],\n",
    "    'random_state' : [7]\n",
    "}"
   ]
  },
  {
   "cell_type": "code",
   "execution_count": null,
   "metadata": {
    "colab": {
     "base_uri": "https://localhost:8080/"
    },
    "id": "FYQ_YiGvWCRP",
    "outputId": "0c7d1663-bce9-43af-94b9-5eeb239c391e"
   },
   "outputs": [],
   "source": [
    "from sklearn.model_selection import GridSearchCV\n",
    "\n",
    "rf_cv = GridSearchCV(estimator=RandomForestClassifier(), param_grid=grid, cv= 5)\n",
    "rf_cv.fit(X_train, Y_train)\n",
    "rf_cv.best_params_"
   ]
  },
  {
   "cell_type": "code",
   "execution_count": null,
   "metadata": {
    "colab": {
     "base_uri": "https://localhost:8080/"
    },
    "id": "2-Sl7rmVXHIR",
    "outputId": "f4512e05-b34b-4738-a56d-8f6a7fbf4e87"
   },
   "outputs": [],
   "source": [
    "rf_clf_4=RandomForestClassifier(criterion= 'entropy',\n",
    "                                max_depth= 5,\n",
    "                                max_features= 'sqrt',\n",
    "                                n_estimators= 100,\n",
    "                                random_state= 7)\n",
    "rf_clf_4.fit(X_train,Y_train)\n",
    "Y_pred_4=rf_clf_4.predict(X_test)\n",
    "Y_pred_train_4 = rf_clf_4.predict(X_train)\n",
    "\n",
    "print(\"Accuracy_train:\",metrics.accuracy_score(Y_train, Y_pred_train_4))\n",
    "print(\"Accuracy_test:\",metrics.accuracy_score(Y_test, Y_pred_4))\n",
    "print(confusion_matrix(Y_test, Y_pred_4))\n",
    "print(classification_report(Y_test, Y_pred_4))"
   ]
  },
  {
   "cell_type": "code",
   "execution_count": null,
   "metadata": {
    "colab": {
     "base_uri": "https://localhost:8080/"
    },
    "id": "ffg6AtkzY7Mx",
    "outputId": "a5816452-b58d-4f2c-afdb-8ec8345e63c8"
   },
   "outputs": [],
   "source": [
    "rf_clf_5=RandomForestClassifier(criterion= 'entropy',\n",
    "                                max_depth= 5,\n",
    "                                max_features= 'sqrt',\n",
    "                                n_estimators= 100,\n",
    "                                random_state= 7)\n",
    "\n",
    "rf_clf_5.fit(X_train_smt,Y_train_smt)\n",
    "Y_pred_5=rf_clf_5.predict(X_test)\n",
    "Y_pred_train_5 = rf_clf_5.predict(X_train_smt)\n",
    "\n",
    "print(\"Accuracy_train:\",metrics.accuracy_score(Y_train_smt, Y_pred_train_5))\n",
    "print(\"Accuracy_test:\",metrics.accuracy_score(Y_test, Y_pred_5))\n",
    "print(confusion_matrix(Y_test, Y_pred_5))\n",
    "print(classification_report(Y_test, Y_pred_5))"
   ]
  },
  {
   "cell_type": "code",
   "execution_count": null,
   "metadata": {
    "colab": {
     "base_uri": "https://localhost:8080/"
    },
    "id": "xUVXz7hHaZ7_",
    "outputId": "301da125-c345-4d09-d90c-075ec7a34be3"
   },
   "outputs": [],
   "source": [
    "scores = cross_val_score(rf_clf_4, X, Y, cv=5)\n",
    "scores\n",
    "print(\"%0.2f accuracy with a standard deviation of %0.2f\" % (scores.mean(), scores.std()))"
   ]
  },
  {
   "cell_type": "code",
   "execution_count": null,
   "metadata": {
    "colab": {
     "base_uri": "https://localhost:8080/"
    },
    "id": "Kd0wFVn4i2lG",
    "outputId": "ef39373d-efcc-40a3-9439-91989b709d63"
   },
   "outputs": [],
   "source": [
    "cross_val = StratifiedKFold(n_splits=5)\n",
    "index_iterator = cross_val.split(X_train, Y_train)\n",
    "rf_clf_6 = RandomForestClassifier()\n",
    "clf_random = RandomizedSearchCV(estimator = rf_clf_6, param_distributions = grid, n_iter =100, cv = cross_val,\n",
    "                            verbose=2, random_state=42, n_jobs = -1,scoring='roc_auc')\n",
    "\n",
    "clf_random.fit(X_train,Y_train)\n",
    "Y_pred_6=clf_random.predict(X_test)\n",
    "Y_pred_train_6 = clf_random.predict(X_train)\n",
    "\n",
    "print(\"Accuracy_train:\",metrics.accuracy_score(Y_train, Y_pred_train_6))\n",
    "print(\"Accuracy_test:\",metrics.accuracy_score(Y_test, Y_pred_6))\n",
    "print(confusion_matrix(Y_test, Y_pred_6))\n",
    "print(classification_report(Y_test, Y_pred_6))"
   ]
  },
  {
   "cell_type": "code",
   "execution_count": null,
   "metadata": {
    "colab": {
     "base_uri": "https://localhost:8080/"
    },
    "id": "G5_J5Z4Tm6rm",
    "outputId": "4b8ea644-dfcf-463a-f073-19dc14f5cfdd"
   },
   "outputs": [],
   "source": [
    "cross_val = StratifiedKFold(n_splits=5)\n",
    "index_iterator = cross_val.split(X_train, Y_train)\n",
    "rf_clf_7 = RandomForestClassifier()\n",
    "clf_grid = GridSearchCV(estimator = rf_clf_7, param_grid = grid, cv = cross_val,\n",
    "                            verbose=2, n_jobs = -1,scoring='roc_auc')\n",
    "\n",
    "clf_grid.fit(X_train,Y_train)\n",
    "Y_pred_7=clf_grid.predict(X_test)\n",
    "Y_pred_train_7 = clf_grid.predict(X_train)\n",
    "\n",
    "print(\"Accuracy_train:\",metrics.accuracy_score(Y_train, Y_pred_train_7))\n",
    "print(\"Accuracy_test:\",metrics.accuracy_score(Y_test, Y_pred_7))\n",
    "print(confusion_matrix(Y_test, Y_pred_7))\n",
    "print(classification_report(Y_test, Y_pred_7))"
   ]
  },
  {
   "cell_type": "code",
   "execution_count": null,
   "metadata": {},
   "outputs": [],
   "source": []
  }
 ],
 "metadata": {
  "colab": {
   "provenance": []
  },
  "kernelspec": {
   "display_name": "Python 3 (ipykernel)",
   "language": "python",
   "name": "python3"
  },
  "language_info": {
   "codemirror_mode": {
    "name": "ipython",
    "version": 3
   },
   "file_extension": ".py",
   "mimetype": "text/x-python",
   "name": "python",
   "nbconvert_exporter": "python",
   "pygments_lexer": "ipython3",
   "version": "3.9.13"
  }
 },
 "nbformat": 4,
 "nbformat_minor": 4
}
